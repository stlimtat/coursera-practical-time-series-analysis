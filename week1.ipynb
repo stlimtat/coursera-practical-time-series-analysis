{
 "cells": [
  {
   "cell_type": "code",
   "execution_count": 6,
   "metadata": {},
   "outputs": [],
   "source": [
    "import numpy as np\n",
    "from pydataset import data\n",
    "import matplotlib.pyplot as plt\n",
    "\n"
   ]
  },
  {
   "cell_type": "code",
   "execution_count": 7,
   "metadata": {},
   "outputs": [
    {
     "name": "stdout",
     "output_type": "stream",
     "text": [
      "co2\n",
      "\n",
      "PyDataset Documentation (adopted from R Documentation. The displayed examples are in R)\n",
      "\n",
      "## Mauna Loa Atmospheric CO2 Concentration\n",
      "\n",
      "### Description\n",
      "\n",
      "Atmospheric concentrations of CO_2_ are expressed in parts per million (ppm)\n",
      "and reported in the preliminary 1997 SIO manometric mole fraction scale.\n",
      "\n",
      "### Usage\n",
      "\n",
      "    co2\n",
      "\n",
      "### Format\n",
      "\n",
      "A time series of 468 observations; monthly from 1959 to 1997.\n",
      "\n",
      "### Details\n",
      "\n",
      "The values for February, March and April of 1964 were missing and have been\n",
      "obtained by interpolating linearly between the values for January and May of\n",
      "1964.\n",
      "\n",
      "### Source\n",
      "\n",
      "Keeling, C. D. and Whorf, T. P., Scripps Institution of Oceanography (SIO),\n",
      "University of California, La Jolla, California USA 92093-0220.\n",
      "\n",
      "ftp://cdiac.esd.ornl.gov/pub/maunaloa-co2/maunaloa.co2.\n",
      "\n",
      "### References\n",
      "\n",
      "Cleveland, W. S. (1993) _Visualizing Data_. New Jersey: Summit Press.\n",
      "\n",
      "### Examples\n",
      "\n",
      "    require(graphics)\n",
      "    plot(co2, ylab = expression(\"Atmospheric concentration of CO\"[2]),\n",
      "         las = 1)\n",
      "    title(main = \"co2 data set\")\n",
      "\n",
      "\n"
     ]
    }
   ],
   "source": [
    "data('co2', show_doc=True)\n",
    "co2 = data('co2')"
   ]
  },
  {
   "cell_type": "markdown",
   "metadata": {},
   "source": [
    "Review of Basic Statistics - Simple Linear Regression\n",
    "\n",
    "```\n",
    "Yi = linear model plus noise\n",
    "  = (B0 + B1X1) + E1\n",
    "```\n",
    "\n",
    "```\n",
    "Q = Sum of (Observed - Predicted)^2\n",
    "\n",
    "Yi = i-th observed response variable\n",
    "Zi = i-th predicted response variable\n",
    "   = slope * Xi + intercept\n",
    "```   \n",
    "We need to find a good value for slope and intercept\n",
    "\n",
    "```\n",
    "slope = b1 = SSxy/SSxx = SumOf( (x1 - x0)(yi - y0) ) / SumOf( x1 - x0 )( x1 - x0 )\n",
    "\n",
    "intercept = b0 = y0 - b1 * x0\n",
    "```"
   ]
  },
  {
   "cell_type": "code",
   "execution_count": 10,
   "metadata": {},
   "outputs": [
    {
     "data": {
      "text/plain": [
       "1.307496690611379"
      ]
     },
     "execution_count": 10,
     "metadata": {},
     "output_type": "execute_result"
    }
   ],
   "source": [
    "x0 = co2['time'].mean()\n",
    "y0 = co2['co2'].mean()\n",
    "x1_x0 = co2['time'] - x0\n",
    "SSxy = sum(x1_x0 * (co2['co2'] - y0))\n",
    "SSxx = sum(x1_x0 * x1_x0)\n",
    "\n",
    "slope = SSxy / SSxx\n",
    "slope"
   ]
  },
  {
   "cell_type": "code",
   "execution_count": 11,
   "metadata": {},
   "outputs": [
    {
     "data": {
      "text/plain": [
       "-2249.774197706991"
      ]
     },
     "execution_count": 11,
     "metadata": {},
     "output_type": "execute_result"
    }
   ],
   "source": [
    "intercept = y0 - slope * x0\n",
    "intercept"
   ]
  },
  {
   "cell_type": "markdown",
   "metadata": {},
   "source": [
    "If we use numpy's linalg.lstsq algorithm, we might achieve the same thing\n",
    "\n",
    "```\n",
    "co2.linear.model = lm(co2 ~ time(co2) )\n",
    "```"
   ]
  },
  {
   "cell_type": "code",
   "execution_count": 26,
   "metadata": {},
   "outputs": [
    {
     "data": {
      "text/plain": [
       "(1.3074966906113779, -2249.7741977069886)"
      ]
     },
     "execution_count": 26,
     "metadata": {},
     "output_type": "execute_result"
    }
   ],
   "source": [
    "n = np.max(co2['time'].shape)\n",
    "my_x = np.vstack([co2['time'], np.ones(n)]).T\n",
    "n, my_x\n",
    "\n",
    "lm = np.linalg.lstsq(a=my_x, b=co2['co2'], rcond=None)\n",
    "slope, intercept = lm[0]\n",
    "slope, intercept"
   ]
  },
  {
   "cell_type": "code",
   "execution_count": 25,
   "metadata": {},
   "outputs": [
    {
     "data": {
      "text/plain": [
       "array([3194.08042306])"
      ]
     },
     "execution_count": 25,
     "metadata": {},
     "output_type": "execute_result"
    }
   ],
   "source": [
    "lm[1]"
   ]
  },
  {
   "cell_type": "markdown",
   "metadata": {},
   "source": [
    "Plot the line with the data\n",
    "\n",
    "```\n",
    "plot(co2, main=\"Atmospheric CO2 Concentration with fitted line\")\n",
    "abline(co2.linear.model)\n",
    "```"
   ]
  },
  {
   "cell_type": "code",
   "execution_count": 28,
   "metadata": {},
   "outputs": [
    {
     "data": {
      "text/plain": [
       "<matplotlib.axes._subplots.AxesSubplot at 0x11af04e48>"
      ]
     },
     "execution_count": 28,
     "metadata": {},
     "output_type": "execute_result"
    },
    {
     "data": {
      "image/png": "[encoded data removed]",
      "text/plain": [
       "<Figure size 432x288 with 1 Axes>"
      ]
     },
     "metadata": {
      "needs_background": "light"
     },
     "output_type": "display_data"
    }
   ],
   "source": [
    "co2[\"lm\"] = slope * co2[\"time\"] + intercept\n",
    "\n",
    "co2.plot(x='time', y=[\"co2\", \"lm\"])"
   ]
  },
  {
   "cell_type": "markdown",
   "metadata": {},
   "source": [
    "Reviewing Basic Statistics II More Linear Regression\n",
    "\n",
    "```\n",
    "co2.residuals = resid(co2.lm)\n",
    "hist(co2.residuals, main=\"Histogram of Residuals\")\n",
    "```"
   ]
  },
  {
   "cell_type": "code",
   "execution_count": 29,
   "metadata": {},
   "outputs": [
    {
     "data": {
      "text/plain": [
       "(array([ 1.30749669e+00, -2.24977420e+03]),\n",
       " array([3194.08042306]),\n",
       " 2,\n",
       " array([4.28012962e+04, 1.23101097e-01]))"
      ]
     },
     "execution_count": 29,
     "metadata": {},
     "output_type": "execute_result"
    }
   ],
   "source": [
    "lm"
   ]
  },
  {
   "cell_type": "code",
   "execution_count": 30,
   "metadata": {},
   "outputs": [
    {
     "data": {
      "text/plain": [
       "1      311.611819\n",
       "2      311.720777\n",
       "3      311.829735\n",
       "4      311.938693\n",
       "5      312.047651\n",
       "6      312.156609\n",
       "7      312.265568\n",
       "8      312.374526\n",
       "9      312.483484\n",
       "10     312.592442\n",
       "11     312.701400\n",
       "12     312.810358\n",
       "13     312.919316\n",
       "14     313.028274\n",
       "15     313.137232\n",
       "16     313.246190\n",
       "17     313.355148\n",
       "18     313.464106\n",
       "19     313.573064\n",
       "20     313.682022\n",
       "21     313.790980\n",
       "22     313.899938\n",
       "23     314.008896\n",
       "24     314.117855\n",
       "25     314.226813\n",
       "26     314.335771\n",
       "27     314.444729\n",
       "28     314.553687\n",
       "29     314.662645\n",
       "30     314.771603\n",
       "31     314.880561\n",
       "32     314.989519\n",
       "33     315.098477\n",
       "34     315.207435\n",
       "35     315.316393\n",
       "36     315.425351\n",
       "37     315.534309\n",
       "38     315.643267\n",
       "39     315.752225\n",
       "40     315.861183\n",
       "41     315.970142\n",
       "42     316.079100\n",
       "43     316.188058\n",
       "44     316.297016\n",
       "45     316.405974\n",
       "46     316.514932\n",
       "47     316.623890\n",
       "48     316.732848\n",
       "49     316.841806\n",
       "50     316.950764\n",
       "51     317.059722\n",
       "52     317.168680\n",
       "53     317.277638\n",
       "54     317.386596\n",
       "55     317.495554\n",
       "56     317.604512\n",
       "57     317.713470\n",
       "58     317.822428\n",
       "59     317.931387\n",
       "60     318.040345\n",
       "61     318.149303\n",
       "62     318.258261\n",
       "63     318.367219\n",
       "64     318.476177\n",
       "65     318.585135\n",
       "66     318.694093\n",
       "67     318.803051\n",
       "68     318.912009\n",
       "69     319.020967\n",
       "70     319.129925\n",
       "71     319.238883\n",
       "72     319.347841\n",
       "73     319.456799\n",
       "74     319.565757\n",
       "75     319.674715\n",
       "76     319.783674\n",
       "77     319.892632\n",
       "78     320.001590\n",
       "79     320.110548\n",
       "80     320.219506\n",
       "81     320.328464\n",
       "82     320.437422\n",
       "83     320.546380\n",
       "84     320.655338\n",
       "85     320.764296\n",
       "          ...    \n",
       "384    353.342755\n",
       "385    353.451713\n",
       "386    353.560671\n",
       "387    353.669629\n",
       "388    353.778587\n",
       "389    353.887546\n",
       "390    353.996504\n",
       "391    354.105462\n",
       "392    354.214420\n",
       "393    354.323378\n",
       "394    354.432336\n",
       "395    354.541294\n",
       "396    354.650252\n",
       "397    354.759210\n",
       "398    354.868168\n",
       "399    354.977126\n",
       "400    355.086084\n",
       "401    355.195042\n",
       "402    355.304000\n",
       "403    355.412958\n",
       "404    355.521916\n",
       "405    355.630874\n",
       "406    355.739833\n",
       "407    355.848791\n",
       "408    355.957749\n",
       "409    356.066707\n",
       "410    356.175665\n",
       "411    356.284623\n",
       "412    356.393581\n",
       "413    356.502539\n",
       "414    356.611497\n",
       "415    356.720455\n",
       "416    356.829413\n",
       "417    356.938371\n",
       "418    357.047329\n",
       "419    357.156287\n",
       "420    357.265245\n",
       "421    357.374203\n",
       "422    357.483161\n",
       "423    357.592119\n",
       "424    357.701078\n",
       "425    357.810036\n",
       "426    357.918994\n",
       "427    358.027952\n",
       "428    358.136910\n",
       "429    358.245868\n",
       "430    358.354826\n",
       "431    358.463784\n",
       "432    358.572742\n",
       "433    358.681700\n",
       "434    358.790658\n",
       "435    358.899616\n",
       "436    359.008574\n",
       "437    359.117532\n",
       "438    359.226490\n",
       "439    359.335448\n",
       "440    359.444406\n",
       "441    359.553365\n",
       "442    359.662323\n",
       "443    359.771281\n",
       "444    359.880239\n",
       "445    359.989197\n",
       "446    360.098155\n",
       "447    360.207113\n",
       "448    360.316071\n",
       "449    360.425029\n",
       "450    360.533987\n",
       "451    360.642945\n",
       "452    360.751903\n",
       "453    360.860861\n",
       "454    360.969819\n",
       "455    361.078777\n",
       "456    361.187735\n",
       "457    361.296693\n",
       "458    361.405652\n",
       "459    361.514610\n",
       "460    361.623568\n",
       "461    361.732526\n",
       "462    361.841484\n",
       "463    361.950442\n",
       "464    362.059400\n",
       "465    362.168358\n",
       "466    362.277316\n",
       "467    362.386274\n",
       "468    362.495232\n",
       "Name: lm, Length: 468, dtype: float64"
      ]
     },
     "execution_count": 30,
     "metadata": {},
     "output_type": "execute_result"
    }
   ],
   "source": []
  },
  {
   "cell_type": "code",
   "execution_count": null,
   "metadata": {},
   "outputs": [],
   "source": []
  }
 ],
 "metadata": {
  "kernelspec": {
   "display_name": "Python 3",
   "language": "python",
   "name": "python3"
  },
  "language_info": {
   "codemirror_mode": {
    "name": "ipython",
    "version": 3
   },
   "file_extension": ".py",
   "mimetype": "text/x-python",
   "name": "python",
   "nbconvert_exporter": "python",
   "pygments_lexer": "ipython3",
   "version": "3.7.3"
  }
 },
 "nbformat": 4,
 "nbformat_minor": 2
}
