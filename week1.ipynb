{
 "cells": [
  {
   "cell_type": "code",
   "execution_count": 216,
   "metadata": {},
   "outputs": [],
   "source": [
    "import numpy as np\n",
    "from pydataset import data\n",
    "import matplotlib.pyplot as plt\n",
    "\n"
   ]
  },
  {
   "cell_type": "code",
   "execution_count": 217,
   "metadata": {},
   "outputs": [
    {
     "name": "stdout",
     "output_type": "stream",
     "text": [
      "co2\n",
      "\n",
      "PyDataset Documentation (adopted from R Documentation. The displayed examples are in R)\n",
      "\n",
      "## Mauna Loa Atmospheric CO2 Concentration\n",
      "\n",
      "### Description\n",
      "\n",
      "Atmospheric concentrations of CO_2_ are expressed in parts per million (ppm)\n",
      "and reported in the preliminary 1997 SIO manometric mole fraction scale.\n",
      "\n",
      "### Usage\n",
      "\n",
      "    co2\n",
      "\n",
      "### Format\n",
      "\n",
      "A time series of 468 observations; monthly from 1959 to 1997.\n",
      "\n",
      "### Details\n",
      "\n",
      "The values for February, March and April of 1964 were missing and have been\n",
      "obtained by interpolating linearly between the values for January and May of\n",
      "1964.\n",
      "\n",
      "### Source\n",
      "\n",
      "Keeling, C. D. and Whorf, T. P., Scripps Institution of Oceanography (SIO),\n",
      "University of California, La Jolla, California USA 92093-0220.\n",
      "\n",
      "ftp://cdiac.esd.ornl.gov/pub/maunaloa-co2/maunaloa.co2.\n",
      "\n",
      "### References\n",
      "\n",
      "Cleveland, W. S. (1993) _Visualizing Data_. New Jersey: Summit Press.\n",
      "\n",
      "### Examples\n",
      "\n",
      "    require(graphics)\n",
      "    plot(co2, ylab = expression(\"Atmospheric concentration of CO\"[2]),\n",
      "         las = 1)\n",
      "    title(main = \"co2 data set\")\n",
      "\n",
      "\n"
     ]
    }
   ],
   "source": [
    "data('co2', show_doc=True)\n",
    "co2 = data('co2')"
   ]
  },
  {
   "cell_type": "markdown",
   "metadata": {},
   "source": [
    "## Review of Basic Statistics - Simple Linear Regression\n",
    "\n",
    "```\n",
    "Yi = linear model plus noise\n",
    "  = (B0 + B1X1) + E1\n",
    "```\n",
    "\n",
    "```\n",
    "Q = Sum of (Observed - Predicted)^2\n",
    "\n",
    "Yi = i-th observed response variable\n",
    "Zi = i-th predicted response variable\n",
    "   = slope * Xi + intercept\n",
    "```   \n",
    "We need to find a good value for slope and intercept\n",
    "\n",
    "```\n",
    "slope = b1 = SSxy/SSxx = SumOf( (x1 - x0)(yi - y0) ) / SumOf( x1 - x0 )( x1 - x0 )\n",
    "\n",
    "intercept = b0 = y0 - b1 * x0\n",
    "```"
   ]
  },
  {
   "cell_type": "code",
   "execution_count": 218,
   "metadata": {},
   "outputs": [
    {
     "data": {
      "text/plain": [
       "1.307496690611379"
      ]
     },
     "execution_count": 218,
     "metadata": {},
     "output_type": "execute_result"
    }
   ],
   "source": [
    "x0 = co2['time'].mean()\n",
    "y0 = co2['co2'].mean()\n",
    "x1_x0 = co2['time'] - x0\n",
    "SSxy = sum(x1_x0 * (co2['co2'] - y0))\n",
    "SSxx = sum(x1_x0 * x1_x0)\n",
    "\n",
    "slope = SSxy / SSxx\n",
    "slope"
   ]
  },
  {
   "cell_type": "code",
   "execution_count": 219,
   "metadata": {},
   "outputs": [
    {
     "data": {
      "text/plain": [
       "-2249.774197706991"
      ]
     },
     "execution_count": 219,
     "metadata": {},
     "output_type": "execute_result"
    }
   ],
   "source": [
    "intercept = y0 - slope * x0\n",
    "intercept"
   ]
  },
  {
   "cell_type": "markdown",
   "metadata": {},
   "source": [
    "If we use numpy's linalg.lstsq algorithm, we might achieve the same thing\n",
    "\n",
    "```\n",
    "co2.linear.model = lm(co2 ~ time(co2) )\n",
    "```"
   ]
  },
  {
   "cell_type": "code",
   "execution_count": 220,
   "metadata": {},
   "outputs": [
    {
     "data": {
      "text/plain": [
       "(1.3074966906113779, -2249.7741977069886)"
      ]
     },
     "execution_count": 220,
     "metadata": {},
     "output_type": "execute_result"
    }
   ],
   "source": [
    "n = np.max(co2['time'].shape)\n",
    "my_x = np.vstack([co2['time'], np.ones(n)]).T\n",
    "n, my_x\n",
    "\n",
    "lm = np.linalg.lstsq(a=my_x, b=co2['co2'], rcond=None)\n",
    "slope, intercept = lm[0]\n",
    "slope, intercept"
   ]
  },
  {
   "cell_type": "code",
   "execution_count": 221,
   "metadata": {},
   "outputs": [
    {
     "data": {
      "text/plain": [
       "array([3194.08042306])"
      ]
     },
     "execution_count": 221,
     "metadata": {},
     "output_type": "execute_result"
    }
   ],
   "source": [
    "lm[1]"
   ]
  },
  {
   "cell_type": "markdown",
   "metadata": {},
   "source": [
    "### Plot the line with the data\n",
    "\n",
    "```\n",
    "plot(co2, main=\"Atmospheric CO2 Concentration with fitted line\")\n",
    "abline(co2.linear.model)\n",
    "```"
   ]
  },
  {
   "cell_type": "code",
   "execution_count": 222,
   "metadata": {},
   "outputs": [
    {
     "data": {
      "text/plain": [
       "<matplotlib.axes._subplots.AxesSubplot at 0x10e541e80>"
      ]
     },
     "execution_count": 222,
     "metadata": {},
     "output_type": "execute_result"
    },
    {
     "data": {
      "image/png": "[encoded data removed]",
      "text/plain": [
       "<Figure size 432x288 with 1 Axes>"
      ]
     },
     "metadata": {
      "needs_background": "light"
     },
     "output_type": "display_data"
    }
   ],
   "source": [
    "co2[\"lm\"] = slope * co2[\"time\"] + intercept\n",
    "\n",
    "co2.plot(x='time', y=[\"co2\", \"lm\"])"
   ]
  },
  {
   "cell_type": "markdown",
   "metadata": {},
   "source": [
    "Reviewing Basic Statistics II More Linear Regression\n",
    "\n",
    "```\n",
    "co2.residuals = resid(co2.lm)\n",
    "hist(co2.residuals, main=\"Histogram of Residuals\")\n",
    "```"
   ]
  },
  {
   "cell_type": "code",
   "execution_count": 223,
   "metadata": {},
   "outputs": [
    {
     "data": {
      "text/plain": [
       "(array([ 1.30749669e+00, -2.24977420e+03]),\n",
       " array([3194.08042306]),\n",
       " 2,\n",
       " array([4.28012962e+04, 1.23101097e-01]))"
      ]
     },
     "execution_count": 223,
     "metadata": {},
     "output_type": "execute_result"
    }
   ],
   "source": [
    "lm"
   ]
  },
  {
   "cell_type": "markdown",
   "metadata": {},
   "source": [
    "### From readings\n",
    "\n",
    "```\n",
    "co2.fitted.values = slope*co2.times + intercept\n",
    "co2.residuals = co2.values - co2.fitted.values\n",
    "```"
   ]
  },
  {
   "cell_type": "code",
   "execution_count": 224,
   "metadata": {},
   "outputs": [
    {
     "data": {
      "text/plain": [
       "<matplotlib.axes._subplots.AxesSubplot at 0x123ca99b0>"
      ]
     },
     "execution_count": 224,
     "metadata": {},
     "output_type": "execute_result"
    },
    {
     "data": {
      "image/png": "[encoded data removed]",
      "text/plain": [
       "<Figure size 432x288 with 1 Axes>"
      ]
     },
     "metadata": {
      "needs_background": "light"
     },
     "output_type": "display_data"
    }
   ],
   "source": [
    "co2[\"resids\"] = co2[\"co2\"] - co2[\"lm\"]\n",
    "co2[\"resids\"].plot.hist(title=\"Residuals\")"
   ]
  },
  {
   "cell_type": "markdown",
   "metadata": {},
   "source": [
    "### Obtaining the qqnorm\n",
    "\n",
    "```\n",
    "qqnorm(co2.residuals)\n",
    "qqline(co2.residuals)\n",
    "```\n",
    "\n",
    "Read from https://stackoverflow.com/questions/13865596/quantile-quantile-plot-using-scipy"
   ]
  },
  {
   "cell_type": "code",
   "execution_count": 225,
   "metadata": {},
   "outputs": [
    {
     "data": {
      "text/plain": [
       "((array([-2.97186429e+00, -2.68816597e+00, -2.52851125e+00, -2.41523836e+00,\n",
       "         -2.32644001e+00, -2.25290304e+00, -2.18984559e+00, -2.13445430e+00,\n",
       "         -2.08492857e+00, -2.04004385e+00, -1.99892811e+00, -1.96093756e+00,\n",
       "         -1.92558286e+00, -1.89248302e+00, -1.86133539e+00, -1.83189543e+00,\n",
       "         -1.80396256e+00, -1.77737020e+00, -1.75197839e+00, -1.72766837e+00,\n",
       "         -1.70433847e+00, -1.68190096e+00, -1.66027959e+00, -1.63940763e+00,\n",
       "         -1.61922636e+00, -1.59968383e+00, -1.58073381e+00, -1.56233501e+00,\n",
       "         -1.54445038e+00, -1.52704655e+00, -1.51009333e+00, -1.49356335e+00,\n",
       "         -1.47743168e+00, -1.46167558e+00, -1.44627421e+00, -1.43120846e+00,\n",
       "         -1.41646073e+00, -1.40201480e+00, -1.38785566e+00, -1.37396942e+00,\n",
       "         -1.36034318e+00, -1.34696494e+00, -1.33382353e+00, -1.32090851e+00,\n",
       "         -1.30821014e+00, -1.29571927e+00, -1.28342736e+00, -1.27132636e+00,\n",
       "         -1.25940872e+00, -1.24766732e+00, -1.23609544e+00, -1.22468676e+00,\n",
       "         -1.21343530e+00, -1.20233539e+00, -1.19138167e+00, -1.18056907e+00,\n",
       "         -1.16989275e+00, -1.15934814e+00, -1.14893089e+00, -1.13863685e+00,\n",
       "         -1.12846207e+00, -1.11840279e+00, -1.10845543e+00, -1.09861656e+00,\n",
       "         -1.08888291e+00, -1.07925134e+00, -1.06971887e+00, -1.06028262e+00,\n",
       "         -1.05093984e+00, -1.04168792e+00, -1.03252431e+00, -1.02344659e+00,\n",
       "         -1.01445244e+00, -1.00553961e+00, -9.96705946e-01, -9.87949387e-01,\n",
       "         -9.79267933e-01, -9.70659664e-01, -9.62122729e-01, -9.53655343e-01,\n",
       "         -9.45255784e-01, -9.36922392e-01, -9.28653563e-01, -9.20447746e-01,\n",
       "         -9.12303445e-01, -9.04219211e-01, -8.96193645e-01, -8.88225391e-01,\n",
       "         -8.80313138e-01, -8.72455616e-01, -8.64651595e-01, -8.56899880e-01,\n",
       "         -8.49199318e-01, -8.41548785e-01, -8.33947195e-01, -8.26393491e-01,\n",
       "         -8.18886648e-01, -8.11425670e-01, -8.04009591e-01, -7.96637469e-01,\n",
       "         -7.89308390e-01, -7.82021467e-01, -7.74775833e-01, -7.67570649e-01,\n",
       "         -7.60405094e-01, -7.53278371e-01, -7.46189703e-01, -7.39138334e-01,\n",
       "         -7.32123527e-01, -7.25144562e-01, -7.18200738e-01, -7.11291372e-01,\n",
       "         -7.04415798e-01, -6.97573363e-01, -6.90763433e-01, -6.83985388e-01,\n",
       "         -6.77238622e-01, -6.70522544e-01, -6.63836574e-01, -6.57180149e-01,\n",
       "         -6.50552716e-01, -6.43953734e-01, -6.37382676e-01, -6.30839025e-01,\n",
       "         -6.24322276e-01, -6.17831933e-01, -6.11367512e-01, -6.04928539e-01,\n",
       "         -5.98514550e-01, -5.92125090e-01, -5.85759712e-01, -5.79417980e-01,\n",
       "         -5.73099466e-01, -5.66803750e-01, -5.60530420e-01, -5.54279072e-01,\n",
       "         -5.48049311e-01, -5.41840747e-01, -5.35653000e-01, -5.29485694e-01,\n",
       "         -5.23338462e-01, -5.17210943e-01, -5.11102782e-01, -5.05013631e-01,\n",
       "         -4.98943148e-01, -4.92890996e-01, -4.86856844e-01, -4.80840368e-01,\n",
       "         -4.74841247e-01, -4.68859166e-01, -4.62893818e-01, -4.56944896e-01,\n",
       "         -4.51012102e-01, -4.45095140e-01, -4.39193720e-01, -4.33307557e-01,\n",
       "         -4.27436369e-01, -4.21579878e-01, -4.15737810e-01, -4.09909898e-01,\n",
       "         -4.04095875e-01, -3.98295480e-01, -3.92508454e-01, -3.86734544e-01,\n",
       "         -3.80973498e-01, -3.75225069e-01, -3.69489012e-01, -3.63765087e-01,\n",
       "         -3.58053056e-01, -3.52352682e-01, -3.46663736e-01, -3.40985987e-01,\n",
       "         -3.35319209e-01, -3.29663179e-01, -3.24017675e-01, -3.18382480e-01,\n",
       "         -3.12757376e-01, -3.07142152e-01, -3.01536596e-01, -2.95940498e-01,\n",
       "         -2.90353654e-01, -2.84775857e-01, -2.79206906e-01, -2.73646601e-01,\n",
       "         -2.68094744e-01, -2.62551137e-01, -2.57015588e-01, -2.51487903e-01,\n",
       "         -2.45967892e-01, -2.40455366e-01, -2.34950136e-01, -2.29452019e-01,\n",
       "         -2.23960829e-01, -2.18476384e-01, -2.12998502e-01, -2.07527005e-01,\n",
       "         -2.02061714e-01, -1.96602451e-01, -1.91149041e-01, -1.85701311e-01,\n",
       "         -1.80259086e-01, -1.74822195e-01, -1.69390466e-01, -1.63963731e-01,\n",
       "         -1.58541820e-01, -1.53124566e-01, -1.47711801e-01, -1.42303361e-01,\n",
       "         -1.36899081e-01, -1.31498795e-01, -1.26102342e-01, -1.20709559e-01,\n",
       "         -1.15320284e-01, -1.09934357e-01, -1.04551616e-01, -9.91719033e-02,\n",
       "         -9.37950590e-02, -8.84209251e-02, -8.30493437e-02, -7.76801575e-02,\n",
       "         -7.23132098e-02, -6.69483442e-02, -6.15854049e-02, -5.62242362e-02,\n",
       "         -5.08646830e-02, -4.55065906e-02, -4.01498043e-02, -3.47941698e-02,\n",
       "         -2.94395332e-02, -2.40857405e-02, -1.87326382e-02, -1.33800725e-02,\n",
       "         -8.02789021e-03, -2.67593785e-03,  2.67593785e-03,  8.02789021e-03,\n",
       "          1.33800725e-02,  1.87326382e-02,  2.40857405e-02,  2.94395332e-02,\n",
       "          3.47941698e-02,  4.01498043e-02,  4.55065906e-02,  5.08646830e-02,\n",
       "          5.62242362e-02,  6.15854049e-02,  6.69483442e-02,  7.23132098e-02,\n",
       "          7.76801575e-02,  8.30493437e-02,  8.84209251e-02,  9.37950590e-02,\n",
       "          9.91719033e-02,  1.04551616e-01,  1.09934357e-01,  1.15320284e-01,\n",
       "          1.20709559e-01,  1.26102342e-01,  1.31498795e-01,  1.36899081e-01,\n",
       "          1.42303361e-01,  1.47711801e-01,  1.53124566e-01,  1.58541820e-01,\n",
       "          1.63963731e-01,  1.69390466e-01,  1.74822195e-01,  1.80259086e-01,\n",
       "          1.85701311e-01,  1.91149041e-01,  1.96602451e-01,  2.02061714e-01,\n",
       "          2.07527005e-01,  2.12998502e-01,  2.18476384e-01,  2.23960829e-01,\n",
       "          2.29452019e-01,  2.34950136e-01,  2.40455366e-01,  2.45967892e-01,\n",
       "          2.51487903e-01,  2.57015588e-01,  2.62551137e-01,  2.68094744e-01,\n",
       "          2.73646601e-01,  2.79206906e-01,  2.84775857e-01,  2.90353654e-01,\n",
       "          2.95940498e-01,  3.01536596e-01,  3.07142152e-01,  3.12757376e-01,\n",
       "          3.18382480e-01,  3.24017675e-01,  3.29663179e-01,  3.35319209e-01,\n",
       "          3.40985987e-01,  3.46663736e-01,  3.52352682e-01,  3.58053056e-01,\n",
       "          3.63765087e-01,  3.69489012e-01,  3.75225069e-01,  3.80973498e-01,\n",
       "          3.86734544e-01,  3.92508454e-01,  3.98295480e-01,  4.04095875e-01,\n",
       "          4.09909898e-01,  4.15737810e-01,  4.21579878e-01,  4.27436369e-01,\n",
       "          4.33307557e-01,  4.39193720e-01,  4.45095140e-01,  4.51012102e-01,\n",
       "          4.56944896e-01,  4.62893818e-01,  4.68859166e-01,  4.74841247e-01,\n",
       "          4.80840368e-01,  4.86856844e-01,  4.92890996e-01,  4.98943148e-01,\n",
       "          5.05013631e-01,  5.11102782e-01,  5.17210943e-01,  5.23338462e-01,\n",
       "          5.29485694e-01,  5.35653000e-01,  5.41840747e-01,  5.48049311e-01,\n",
       "          5.54279072e-01,  5.60530420e-01,  5.66803750e-01,  5.73099466e-01,\n",
       "          5.79417980e-01,  5.85759712e-01,  5.92125090e-01,  5.98514550e-01,\n",
       "          6.04928539e-01,  6.11367512e-01,  6.17831933e-01,  6.24322276e-01,\n",
       "          6.30839025e-01,  6.37382676e-01,  6.43953734e-01,  6.50552716e-01,\n",
       "          6.57180149e-01,  6.63836574e-01,  6.70522544e-01,  6.77238622e-01,\n",
       "          6.83985388e-01,  6.90763433e-01,  6.97573363e-01,  7.04415798e-01,\n",
       "          7.11291372e-01,  7.18200738e-01,  7.25144562e-01,  7.32123527e-01,\n",
       "          7.39138334e-01,  7.46189703e-01,  7.53278371e-01,  7.60405094e-01,\n",
       "          7.67570649e-01,  7.74775833e-01,  7.82021467e-01,  7.89308390e-01,\n",
       "          7.96637469e-01,  8.04009591e-01,  8.11425670e-01,  8.18886648e-01,\n",
       "          8.26393491e-01,  8.33947195e-01,  8.41548785e-01,  8.49199318e-01,\n",
       "          8.56899880e-01,  8.64651595e-01,  8.72455616e-01,  8.80313138e-01,\n",
       "          8.88225391e-01,  8.96193645e-01,  9.04219211e-01,  9.12303445e-01,\n",
       "          9.20447746e-01,  9.28653563e-01,  9.36922392e-01,  9.45255784e-01,\n",
       "          9.53655343e-01,  9.62122729e-01,  9.70659664e-01,  9.79267933e-01,\n",
       "          9.87949387e-01,  9.96705946e-01,  1.00553961e+00,  1.01445244e+00,\n",
       "          1.02344659e+00,  1.03252431e+00,  1.04168792e+00,  1.05093984e+00,\n",
       "          1.06028262e+00,  1.06971887e+00,  1.07925134e+00,  1.08888291e+00,\n",
       "          1.09861656e+00,  1.10845543e+00,  1.11840279e+00,  1.12846207e+00,\n",
       "          1.13863685e+00,  1.14893089e+00,  1.15934814e+00,  1.16989275e+00,\n",
       "          1.18056907e+00,  1.19138167e+00,  1.20233539e+00,  1.21343530e+00,\n",
       "          1.22468676e+00,  1.23609544e+00,  1.24766732e+00,  1.25940872e+00,\n",
       "          1.27132636e+00,  1.28342736e+00,  1.29571927e+00,  1.30821014e+00,\n",
       "          1.32090851e+00,  1.33382353e+00,  1.34696494e+00,  1.36034318e+00,\n",
       "          1.37396942e+00,  1.38785566e+00,  1.40201480e+00,  1.41646073e+00,\n",
       "          1.43120846e+00,  1.44627421e+00,  1.46167558e+00,  1.47743168e+00,\n",
       "          1.49356335e+00,  1.51009333e+00,  1.52704655e+00,  1.54445038e+00,\n",
       "          1.56233501e+00,  1.58073381e+00,  1.59968383e+00,  1.61922636e+00,\n",
       "          1.63940763e+00,  1.66027959e+00,  1.68190096e+00,  1.70433847e+00,\n",
       "          1.72766837e+00,  1.75197839e+00,  1.77737020e+00,  1.80396256e+00,\n",
       "          1.83189543e+00,  1.86133539e+00,  1.89248302e+00,  1.92558286e+00,\n",
       "          1.96093756e+00,  1.99892811e+00,  2.04004385e+00,  2.08492857e+00,\n",
       "          2.13445430e+00,  2.18984559e+00,  2.25290304e+00,  2.32644001e+00,\n",
       "          2.41523836e+00,  2.52851125e+00,  2.68816597e+00,  2.97186429e+00]),\n",
       "  array([-6.03988546e+00, -5.57092740e+00, -5.34238877e+00, -5.14738215e+00,\n",
       "         -5.05487884e+00, -5.04237553e+00, -5.00343071e+00, -4.99489208e+00,\n",
       "         -4.97486561e+00, -4.97344395e+00, -4.88341748e+00, -4.88240201e+00,\n",
       "         -4.82593402e+00, -4.80094064e+00, -4.78884352e+00, -4.74590755e+00,\n",
       "         -4.72841086e+00, -4.72592078e+00, -4.67736891e+00, -4.59842409e+00,\n",
       "         -4.54989870e+00, -4.30134683e+00, -4.27090093e+00, -4.26991194e+00,\n",
       "         -4.22091417e+00, -4.20987222e+00, -4.17340424e+00, -4.15236230e+00,\n",
       "         -4.09985899e+00, -4.07490532e+00, -4.07095388e+00, -4.04740863e+00,\n",
       "         -4.02385014e+00, -3.99634021e+00, -3.96735568e+00, -3.93594726e+00,\n",
       "         -3.90485237e+00, -3.87739539e+00, -3.84345719e+00, -3.83196935e+00,\n",
       "         -3.81241524e+00, -3.80491855e+00, -3.79383690e+00, -3.76136006e+00,\n",
       "         -3.73133359e+00, -3.68382366e+00, -3.55839762e+00, -3.51780158e+00,\n",
       "         -3.43843733e+00, -3.39447266e+00, -3.35885676e+00, -3.33845057e+00,\n",
       "         -3.31946604e+00, -3.30886999e+00, -3.29742186e+00, -3.27632697e+00,\n",
       "         -3.26837115e+00, -3.23386337e+00, -3.22883028e+00, -3.21198258e+00,\n",
       "         -3.15596050e+00, -3.14030489e+00, -3.10589431e+00, -3.10132035e+00,\n",
       "         -3.09732920e+00, -3.08636668e+00, -3.02234906e+00, -3.01635345e+00,\n",
       "         -3.01280819e+00, -2.87945280e+00, -2.87279496e+00, -2.82339100e+00,\n",
       "         -2.79694949e+00, -2.79448589e+00, -2.75697596e+00, -2.70696273e+00,\n",
       "         -2.69087446e+00, -2.66846381e+00, -2.66529827e+00, -2.65031812e+00,\n",
       "         -2.63631374e+00, -2.63531150e+00, -2.60445942e+00, -2.60137330e+00,\n",
       "         -2.58881704e+00, -2.56278172e+00, -2.52381043e+00, -2.50983251e+00,\n",
       "         -2.48096711e+00, -2.41992517e+00, -2.41781481e+00, -2.40586784e+00,\n",
       "         -2.40195611e+00, -2.40029165e+00, -2.39675963e+00, -2.35482589e+00,\n",
       "         -2.32233582e+00, -2.30176625e+00, -2.27337776e+00, -2.25926294e+00,\n",
       "         -2.23282143e+00, -2.22778834e+00, -2.22698920e+00, -2.22387661e+00,\n",
       "         -2.19588107e+00, -2.19199582e+00, -2.13528503e+00, -2.08483913e+00,\n",
       "         -2.07449913e+00, -2.06838438e+00, -2.04426956e+00, -2.01571769e+00,\n",
       "         -2.00927618e+00, -1.99242848e+00, -1.98734244e+00, -1.95194287e+00,\n",
       "         -1.94949251e+00, -1.94693625e+00, -1.93532474e+00, -1.92835791e+00,\n",
       "         -1.86232258e+00, -1.85943956e+00, -1.85628726e+00, -1.85088769e+00,\n",
       "         -1.84637992e+00, -1.83782805e+00, -1.79173978e+00, -1.78984575e+00,\n",
       "         -1.75879057e+00, -1.71175302e+00, -1.70888323e+00, -1.67130712e+00,\n",
       "         -1.66347042e+00, -1.65425632e+00, -1.60301129e+00, -1.55822100e+00,\n",
       "         -1.54677287e+00, -1.54444618e+00, -1.52947927e+00, -1.50950575e+00,\n",
       "         -1.47033136e+00, -1.45777510e+00, -1.45551460e+00, -1.44731597e+00,\n",
       "         -1.44336453e+00, -1.42527179e+00, -1.40533798e+00, -1.39276848e+00,\n",
       "         -1.39072431e+00, -1.38302453e+00, -1.37027841e+00, -1.35086122e+00,\n",
       "         -1.34941309e+00, -1.34321438e+00, -1.32700244e+00, -1.31981928e+00,\n",
       "         -1.31674640e+00, -1.29177949e+00, -1.28071107e+00, -1.24823424e+00,\n",
       "         -1.24719230e+00, -1.24493179e+00, -1.22924971e+00, -1.11424309e+00,\n",
       "         -1.10428280e+00, -1.09283467e+00, -1.06443294e+00, -1.04050798e+00,\n",
       "         -1.02138654e+00, -9.88207763e-01, -9.79289417e-01, -9.01293879e-01,\n",
       "         -9.00737547e-01, -8.79682367e-01, -8.73783952e-01, -8.68017907e-01,\n",
       "         -8.56786108e-01, -8.55501361e-01, -8.34675749e-01, -8.16733160e-01,\n",
       "         -8.04229850e-01, -7.97841287e-01, -7.86300498e-01, -7.83227619e-01,\n",
       "         -7.79236469e-01, -7.55527835e-01, -7.50697836e-01, -7.38004670e-01,\n",
       "         -7.27179058e-01, -7.10494742e-01, -7.08803807e-01, -6.46909779e-01,\n",
       "         -6.40265174e-01, -6.27748628e-01, -6.25730928e-01, -6.01916397e-01,\n",
       "         -5.43797189e-01, -5.35744165e-01, -5.09695605e-01, -4.98247475e-01,\n",
       "         -4.85245318e-01, -4.68031144e-01, -4.57991433e-01, -3.81726541e-01,\n",
       "         -3.72009057e-01, -3.53201145e-01, -3.45541072e-01, -3.32998051e-01,\n",
       "         -3.04296036e-01, -2.95973733e-01, -2.94419707e-01, -2.83240856e-01,\n",
       "         -2.79655893e-01, -2.78777333e-01, -2.68477043e-01, -2.43187908e-01,\n",
       "         -2.34066468e-01, -2.19938409e-01, -2.14053231e-01, -2.02172440e-01,\n",
       "         -1.89669130e-01, -1.86799345e-01, -1.85704454e-01, -1.61280642e-01,\n",
       "         -1.46923016e-01, -1.22185677e-01, -9.38898485e-02, -7.94263253e-02,\n",
       "         -7.81945263e-02, -5.30377626e-02, -4.74351002e-02, -4.06845985e-02,\n",
       "         -2.19296346e-02, -8.65366206e-03,  5.31101405e-03,  5.48763348e-03,\n",
       "          5.55935303e-02,  9.82072735e-02,  1.03725976e-01,  1.04308783e-01,\n",
       "          1.19518495e-01,  1.29478784e-01,  1.32794468e-01,  1.59249216e-01,\n",
       "          1.59655403e-01,  1.64511877e-01,  1.92021804e-01,  2.09019648e-01,\n",
       "          2.39748063e-01,  2.43862884e-01,  2.67015186e-01,  2.81359575e-01,\n",
       "          3.10940151e-01,  3.34741444e-01,  3.53443460e-01,  3.79465547e-01,\n",
       "          4.08450078e-01,  4.26366194e-01,  4.34904827e-01,  4.52238135e-01,\n",
       "          4.54525114e-01,  4.77257991e-01,  5.10600149e-01,  5.47854035e-01,\n",
       "          5.53430223e-01,  5.56745907e-01,  5.57801086e-01,  5.63293315e-01,\n",
       "          5.65297777e-01,  5.87558281e-01,  5.90291158e-01,  5.92847416e-01,\n",
       "          6.15337488e-01,  6.21372812e-01,  6.22834179e-01,  6.23606842e-01,\n",
       "          6.23849647e-01,  6.27840798e-01,  7.14242597e-01,  7.20776768e-01,\n",
       "          7.20953388e-01,  7.27244754e-01,  7.88096840e-01,  7.90357344e-01,\n",
       "          7.97152094e-01,  8.08869503e-01,  8.09544969e-01,  8.13456697e-01,\n",
       "          8.21955619e-01,  8.31103533e-01,  8.32401517e-01,  8.54891590e-01,\n",
       "          8.59761300e-01,  9.24335257e-01,  9.28856266e-01,  9.39452310e-01,\n",
       "          9.49911445e-01,  9.50966625e-01,  9.52984324e-01,  9.60926914e-01,\n",
       "          9.65796624e-01,  9.87408136e-01,  1.02238828e+00,  1.05528454e+00,\n",
       "          1.08635296e+00,  1.10241475e+00,  1.12079001e+00,  1.13828670e+00,\n",
       "          1.15383641e+00,  1.15846332e+00,  1.19226461e+00,  1.19651634e+00,\n",
       "          1.20387612e+00,  1.24778785e+00,  1.25989821e+00,  1.26069735e+00,\n",
       "          1.27592029e+00,  1.29829993e+00,  1.30842360e+00,  1.31341699e+00,\n",
       "          1.35578339e+00,  1.37888274e+00,  1.38596001e+00,  1.40683857e+00,\n",
       "          1.42464878e+00,  1.42535073e+00,  1.43843684e+00,  1.45138605e+00,\n",
       "          1.46694900e+00,  1.47988497e+00,  1.48633972e+00,  1.52204828e+00,\n",
       "          1.52704166e+00,  1.58487835e+00,  1.60346993e+00,  1.62637943e+00,\n",
       "          1.64048101e+00,  1.64884303e+00,  1.70841037e+00,  1.73819404e+00,\n",
       "          1.76183195e+00,  1.76328008e+00,  1.77597324e+00,  1.78491806e+00,\n",
       "          1.81173929e+00,  1.83992468e+00,  1.84476792e+00,  1.85133310e+00,\n",
       "          1.87203504e+00,  1.90181871e+00,  1.91097986e+00,  1.91214548e+00,\n",
       "          1.91847655e+00,  1.92742137e+00,  1.93330655e+00,  1.95453835e+00,\n",
       "          1.95739490e+00,  1.95860022e+00,  1.96923598e+00,  1.97432202e+00,\n",
       "          2.03537720e+00,  2.03702842e+00,  2.05797771e+00,  2.06932864e+00,\n",
       "          2.08444569e+00,  2.08738166e+00,  2.10080324e+00,  2.10736842e+00,\n",
       "          2.12889598e+00,  2.15242799e+00,  2.18632648e+00,  2.23639267e+00,\n",
       "          2.23934188e+00,  2.24569073e+00,  2.25139929e+00,  2.25388936e+00,\n",
       "          2.25953173e+00,  2.27547440e+00,  2.28091368e+00,  2.29682533e+00,\n",
       "          2.30286065e+00,  2.30348317e+00,  2.32237504e+00,  2.35788051e+00,\n",
       "          2.37278123e+00,  2.44882979e+00,  2.47536396e+00,  2.50318742e+00,\n",
       "          2.51493130e+00,  2.56955821e+00,  2.60455159e+00,  2.61964217e+00,\n",
       "          2.64027792e+00,  2.65434849e+00,  2.67993792e+00,  2.69743461e+00,\n",
       "          2.70987173e+00,  2.74287389e+00,  2.75673267e+00,  2.76038382e+00,\n",
       "          2.86786727e+00,  2.92382317e+00,  2.93850303e+00,  3.00244123e+00,\n",
       "          3.01641914e+00,  3.02100634e+00,  3.03590706e+00,  3.05705490e+00,\n",
       "          3.09539044e+00,  3.19184518e+00,  3.20422936e+00,  3.26194238e+00,\n",
       "          3.35068411e+00,  3.36037058e+00,  3.38099310e+00,  3.47486512e+00,\n",
       "          3.53943907e+00,  3.54598648e+00,  3.54892245e+00,  3.55390260e+00,\n",
       "          3.56890921e+00,  3.58848979e+00,  3.72746108e+00,  3.77777461e+00,\n",
       "          3.78172605e+00,  3.80818080e+00,  3.83851626e+00,  3.85288713e+00,\n",
       "          3.85996439e+00,  3.86599972e+00,  3.92340375e+00,  3.93527130e+00,\n",
       "          3.98391583e+00,  4.05131986e+00,  4.07350965e+00,  4.07494454e+00,\n",
       "          4.09640590e+00,  4.12349641e+00,  4.12443245e+00,  4.24744785e+00,\n",
       "          4.28276799e+00,  4.37090044e+00,  4.38495778e+00,  4.41995116e+00,\n",
       "          4.43693576e+00,  4.44392907e+00,  4.47142576e+00,  4.47601295e+00,\n",
       "          4.55881655e+00,  4.58922274e+00,  4.67026468e+00,  4.70141252e+00,\n",
       "          4.70246770e+00,  4.75631325e+00,  4.77643238e+00,  4.80236181e+00,\n",
       "          4.83839713e+00,  4.87985850e+00,  5.02497101e+00,  5.10747432e+00,\n",
       "          5.33245447e+00,  5.62130663e+00,  5.62380994e+00,  5.75735519e+00,\n",
       "          5.84339051e+00,  5.96589382e+00,  6.08234857e+00,  6.51485188e+00])),\n",
       " (2.6168494199536156, -5.504580646948331e-13, 0.996287428396972))"
      ]
     },
     "execution_count": 225,
     "metadata": {},
     "output_type": "execute_result"
    },
    {
     "data": {
      "image/png": "[encoded data removed]",
      "text/plain": [
       "<Figure size 432x288 with 1 Axes>"
      ]
     },
     "metadata": {
      "needs_background": "light"
     },
     "output_type": "display_data"
    }
   ],
   "source": [
    "import scipy.stats as stats\n",
    "import pylab\n",
    "\n",
    "stats.probplot(co2[\"resids\"], dist=\"norm\", plot=plt)"
   ]
  },
  {
   "cell_type": "code",
   "execution_count": 226,
   "metadata": {},
   "outputs": [
    {
     "data": {
      "text/plain": [
       "((array([-2.97186429e+00, -2.68816597e+00, -2.52851125e+00, -2.41523836e+00,\n",
       "         -2.32644001e+00, -2.25290304e+00, -2.18984559e+00, -2.13445430e+00,\n",
       "         -2.08492857e+00, -2.04004385e+00, -1.99892811e+00, -1.96093756e+00,\n",
       "         -1.92558286e+00, -1.89248302e+00, -1.86133539e+00, -1.83189543e+00,\n",
       "         -1.80396256e+00, -1.77737020e+00, -1.75197839e+00, -1.72766837e+00,\n",
       "         -1.70433847e+00, -1.68190096e+00, -1.66027959e+00, -1.63940763e+00,\n",
       "         -1.61922636e+00, -1.59968383e+00, -1.58073381e+00, -1.56233501e+00,\n",
       "         -1.54445038e+00, -1.52704655e+00, -1.51009333e+00, -1.49356335e+00,\n",
       "         -1.47743168e+00, -1.46167558e+00, -1.44627421e+00, -1.43120846e+00,\n",
       "         -1.41646073e+00, -1.40201480e+00, -1.38785566e+00, -1.37396942e+00,\n",
       "         -1.36034318e+00, -1.34696494e+00, -1.33382353e+00, -1.32090851e+00,\n",
       "         -1.30821014e+00, -1.29571927e+00, -1.28342736e+00, -1.27132636e+00,\n",
       "         -1.25940872e+00, -1.24766732e+00, -1.23609544e+00, -1.22468676e+00,\n",
       "         -1.21343530e+00, -1.20233539e+00, -1.19138167e+00, -1.18056907e+00,\n",
       "         -1.16989275e+00, -1.15934814e+00, -1.14893089e+00, -1.13863685e+00,\n",
       "         -1.12846207e+00, -1.11840279e+00, -1.10845543e+00, -1.09861656e+00,\n",
       "         -1.08888291e+00, -1.07925134e+00, -1.06971887e+00, -1.06028262e+00,\n",
       "         -1.05093984e+00, -1.04168792e+00, -1.03252431e+00, -1.02344659e+00,\n",
       "         -1.01445244e+00, -1.00553961e+00, -9.96705946e-01, -9.87949387e-01,\n",
       "         -9.79267933e-01, -9.70659664e-01, -9.62122729e-01, -9.53655343e-01,\n",
       "         -9.45255784e-01, -9.36922392e-01, -9.28653563e-01, -9.20447746e-01,\n",
       "         -9.12303445e-01, -9.04219211e-01, -8.96193645e-01, -8.88225391e-01,\n",
       "         -8.80313138e-01, -8.72455616e-01, -8.64651595e-01, -8.56899880e-01,\n",
       "         -8.49199318e-01, -8.41548785e-01, -8.33947195e-01, -8.26393491e-01,\n",
       "         -8.18886648e-01, -8.11425670e-01, -8.04009591e-01, -7.96637469e-01,\n",
       "         -7.89308390e-01, -7.82021467e-01, -7.74775833e-01, -7.67570649e-01,\n",
       "         -7.60405094e-01, -7.53278371e-01, -7.46189703e-01, -7.39138334e-01,\n",
       "         -7.32123527e-01, -7.25144562e-01, -7.18200738e-01, -7.11291372e-01,\n",
       "         -7.04415798e-01, -6.97573363e-01, -6.90763433e-01, -6.83985388e-01,\n",
       "         -6.77238622e-01, -6.70522544e-01, -6.63836574e-01, -6.57180149e-01,\n",
       "         -6.50552716e-01, -6.43953734e-01, -6.37382676e-01, -6.30839025e-01,\n",
       "         -6.24322276e-01, -6.17831933e-01, -6.11367512e-01, -6.04928539e-01,\n",
       "         -5.98514550e-01, -5.92125090e-01, -5.85759712e-01, -5.79417980e-01,\n",
       "         -5.73099466e-01, -5.66803750e-01, -5.60530420e-01, -5.54279072e-01,\n",
       "         -5.48049311e-01, -5.41840747e-01, -5.35653000e-01, -5.29485694e-01,\n",
       "         -5.23338462e-01, -5.17210943e-01, -5.11102782e-01, -5.05013631e-01,\n",
       "         -4.98943148e-01, -4.92890996e-01, -4.86856844e-01, -4.80840368e-01,\n",
       "         -4.74841247e-01, -4.68859166e-01, -4.62893818e-01, -4.56944896e-01,\n",
       "         -4.51012102e-01, -4.45095140e-01, -4.39193720e-01, -4.33307557e-01,\n",
       "         -4.27436369e-01, -4.21579878e-01, -4.15737810e-01, -4.09909898e-01,\n",
       "         -4.04095875e-01, -3.98295480e-01, -3.92508454e-01, -3.86734544e-01,\n",
       "         -3.80973498e-01, -3.75225069e-01, -3.69489012e-01, -3.63765087e-01,\n",
       "         -3.58053056e-01, -3.52352682e-01, -3.46663736e-01, -3.40985987e-01,\n",
       "         -3.35319209e-01, -3.29663179e-01, -3.24017675e-01, -3.18382480e-01,\n",
       "         -3.12757376e-01, -3.07142152e-01, -3.01536596e-01, -2.95940498e-01,\n",
       "         -2.90353654e-01, -2.84775857e-01, -2.79206906e-01, -2.73646601e-01,\n",
       "         -2.68094744e-01, -2.62551137e-01, -2.57015588e-01, -2.51487903e-01,\n",
       "         -2.45967892e-01, -2.40455366e-01, -2.34950136e-01, -2.29452019e-01,\n",
       "         -2.23960829e-01, -2.18476384e-01, -2.12998502e-01, -2.07527005e-01,\n",
       "         -2.02061714e-01, -1.96602451e-01, -1.91149041e-01, -1.85701311e-01,\n",
       "         -1.80259086e-01, -1.74822195e-01, -1.69390466e-01, -1.63963731e-01,\n",
       "         -1.58541820e-01, -1.53124566e-01, -1.47711801e-01, -1.42303361e-01,\n",
       "         -1.36899081e-01, -1.31498795e-01, -1.26102342e-01, -1.20709559e-01,\n",
       "         -1.15320284e-01, -1.09934357e-01, -1.04551616e-01, -9.91719033e-02,\n",
       "         -9.37950590e-02, -8.84209251e-02, -8.30493437e-02, -7.76801575e-02,\n",
       "         -7.23132098e-02, -6.69483442e-02, -6.15854049e-02, -5.62242362e-02,\n",
       "         -5.08646830e-02, -4.55065906e-02, -4.01498043e-02, -3.47941698e-02,\n",
       "         -2.94395332e-02, -2.40857405e-02, -1.87326382e-02, -1.33800725e-02,\n",
       "         -8.02789021e-03, -2.67593785e-03,  2.67593785e-03,  8.02789021e-03,\n",
       "          1.33800725e-02,  1.87326382e-02,  2.40857405e-02,  2.94395332e-02,\n",
       "          3.47941698e-02,  4.01498043e-02,  4.55065906e-02,  5.08646830e-02,\n",
       "          5.62242362e-02,  6.15854049e-02,  6.69483442e-02,  7.23132098e-02,\n",
       "          7.76801575e-02,  8.30493437e-02,  8.84209251e-02,  9.37950590e-02,\n",
       "          9.91719033e-02,  1.04551616e-01,  1.09934357e-01,  1.15320284e-01,\n",
       "          1.20709559e-01,  1.26102342e-01,  1.31498795e-01,  1.36899081e-01,\n",
       "          1.42303361e-01,  1.47711801e-01,  1.53124566e-01,  1.58541820e-01,\n",
       "          1.63963731e-01,  1.69390466e-01,  1.74822195e-01,  1.80259086e-01,\n",
       "          1.85701311e-01,  1.91149041e-01,  1.96602451e-01,  2.02061714e-01,\n",
       "          2.07527005e-01,  2.12998502e-01,  2.18476384e-01,  2.23960829e-01,\n",
       "          2.29452019e-01,  2.34950136e-01,  2.40455366e-01,  2.45967892e-01,\n",
       "          2.51487903e-01,  2.57015588e-01,  2.62551137e-01,  2.68094744e-01,\n",
       "          2.73646601e-01,  2.79206906e-01,  2.84775857e-01,  2.90353654e-01,\n",
       "          2.95940498e-01,  3.01536596e-01,  3.07142152e-01,  3.12757376e-01,\n",
       "          3.18382480e-01,  3.24017675e-01,  3.29663179e-01,  3.35319209e-01,\n",
       "          3.40985987e-01,  3.46663736e-01,  3.52352682e-01,  3.58053056e-01,\n",
       "          3.63765087e-01,  3.69489012e-01,  3.75225069e-01,  3.80973498e-01,\n",
       "          3.86734544e-01,  3.92508454e-01,  3.98295480e-01,  4.04095875e-01,\n",
       "          4.09909898e-01,  4.15737810e-01,  4.21579878e-01,  4.27436369e-01,\n",
       "          4.33307557e-01,  4.39193720e-01,  4.45095140e-01,  4.51012102e-01,\n",
       "          4.56944896e-01,  4.62893818e-01,  4.68859166e-01,  4.74841247e-01,\n",
       "          4.80840368e-01,  4.86856844e-01,  4.92890996e-01,  4.98943148e-01,\n",
       "          5.05013631e-01,  5.11102782e-01,  5.17210943e-01,  5.23338462e-01,\n",
       "          5.29485694e-01,  5.35653000e-01,  5.41840747e-01,  5.48049311e-01,\n",
       "          5.54279072e-01,  5.60530420e-01,  5.66803750e-01,  5.73099466e-01,\n",
       "          5.79417980e-01,  5.85759712e-01,  5.92125090e-01,  5.98514550e-01,\n",
       "          6.04928539e-01,  6.11367512e-01,  6.17831933e-01,  6.24322276e-01,\n",
       "          6.30839025e-01,  6.37382676e-01,  6.43953734e-01,  6.50552716e-01,\n",
       "          6.57180149e-01,  6.63836574e-01,  6.70522544e-01,  6.77238622e-01,\n",
       "          6.83985388e-01,  6.90763433e-01,  6.97573363e-01,  7.04415798e-01,\n",
       "          7.11291372e-01,  7.18200738e-01,  7.25144562e-01,  7.32123527e-01,\n",
       "          7.39138334e-01,  7.46189703e-01,  7.53278371e-01,  7.60405094e-01,\n",
       "          7.67570649e-01,  7.74775833e-01,  7.82021467e-01,  7.89308390e-01,\n",
       "          7.96637469e-01,  8.04009591e-01,  8.11425670e-01,  8.18886648e-01,\n",
       "          8.26393491e-01,  8.33947195e-01,  8.41548785e-01,  8.49199318e-01,\n",
       "          8.56899880e-01,  8.64651595e-01,  8.72455616e-01,  8.80313138e-01,\n",
       "          8.88225391e-01,  8.96193645e-01,  9.04219211e-01,  9.12303445e-01,\n",
       "          9.20447746e-01,  9.28653563e-01,  9.36922392e-01,  9.45255784e-01,\n",
       "          9.53655343e-01,  9.62122729e-01,  9.70659664e-01,  9.79267933e-01,\n",
       "          9.87949387e-01,  9.96705946e-01,  1.00553961e+00,  1.01445244e+00,\n",
       "          1.02344659e+00,  1.03252431e+00,  1.04168792e+00,  1.05093984e+00,\n",
       "          1.06028262e+00,  1.06971887e+00,  1.07925134e+00,  1.08888291e+00,\n",
       "          1.09861656e+00,  1.10845543e+00,  1.11840279e+00,  1.12846207e+00,\n",
       "          1.13863685e+00,  1.14893089e+00,  1.15934814e+00,  1.16989275e+00,\n",
       "          1.18056907e+00,  1.19138167e+00,  1.20233539e+00,  1.21343530e+00,\n",
       "          1.22468676e+00,  1.23609544e+00,  1.24766732e+00,  1.25940872e+00,\n",
       "          1.27132636e+00,  1.28342736e+00,  1.29571927e+00,  1.30821014e+00,\n",
       "          1.32090851e+00,  1.33382353e+00,  1.34696494e+00,  1.36034318e+00,\n",
       "          1.37396942e+00,  1.38785566e+00,  1.40201480e+00,  1.41646073e+00,\n",
       "          1.43120846e+00,  1.44627421e+00,  1.46167558e+00,  1.47743168e+00,\n",
       "          1.49356335e+00,  1.51009333e+00,  1.52704655e+00,  1.54445038e+00,\n",
       "          1.56233501e+00,  1.58073381e+00,  1.59968383e+00,  1.61922636e+00,\n",
       "          1.63940763e+00,  1.66027959e+00,  1.68190096e+00,  1.70433847e+00,\n",
       "          1.72766837e+00,  1.75197839e+00,  1.77737020e+00,  1.80396256e+00,\n",
       "          1.83189543e+00,  1.86133539e+00,  1.89248302e+00,  1.92558286e+00,\n",
       "          1.96093756e+00,  1.99892811e+00,  2.04004385e+00,  2.08492857e+00,\n",
       "          2.13445430e+00,  2.18984559e+00,  2.25290304e+00,  2.32644001e+00,\n",
       "          2.41523836e+00,  2.52851125e+00,  2.68816597e+00,  2.97186429e+00]),\n",
       "  array([-6.03988546e+00, -5.57092740e+00, -5.34238877e+00, -5.14738215e+00,\n",
       "         -5.05487884e+00, -5.04237553e+00, -5.00343071e+00, -4.99489208e+00,\n",
       "         -4.97486561e+00, -4.97344395e+00, -4.88341748e+00, -4.88240201e+00,\n",
       "         -4.82593402e+00, -4.80094064e+00, -4.78884352e+00, -4.74590755e+00,\n",
       "         -4.72841086e+00, -4.72592078e+00, -4.67736891e+00, -4.59842409e+00,\n",
       "         -4.54989870e+00, -4.30134683e+00, -4.27090093e+00, -4.26991194e+00,\n",
       "         -4.22091417e+00, -4.20987222e+00, -4.17340424e+00, -4.15236230e+00,\n",
       "         -4.09985899e+00, -4.07490532e+00, -4.07095388e+00, -4.04740863e+00,\n",
       "         -4.02385014e+00, -3.99634021e+00, -3.96735568e+00, -3.93594726e+00,\n",
       "         -3.90485237e+00, -3.87739539e+00, -3.84345719e+00, -3.83196935e+00,\n",
       "         -3.81241524e+00, -3.80491855e+00, -3.79383690e+00, -3.76136006e+00,\n",
       "         -3.73133359e+00, -3.68382366e+00, -3.55839762e+00, -3.51780158e+00,\n",
       "         -3.43843733e+00, -3.39447266e+00, -3.35885676e+00, -3.33845057e+00,\n",
       "         -3.31946604e+00, -3.30886999e+00, -3.29742186e+00, -3.27632697e+00,\n",
       "         -3.26837115e+00, -3.23386337e+00, -3.22883028e+00, -3.21198258e+00,\n",
       "         -3.15596050e+00, -3.14030489e+00, -3.10589431e+00, -3.10132035e+00,\n",
       "         -3.09732920e+00, -3.08636668e+00, -3.02234906e+00, -3.01635345e+00,\n",
       "         -3.01280819e+00, -2.87945280e+00, -2.87279496e+00, -2.82339100e+00,\n",
       "         -2.79694949e+00, -2.79448589e+00, -2.75697596e+00, -2.70696273e+00,\n",
       "         -2.69087446e+00, -2.66846381e+00, -2.66529827e+00, -2.65031812e+00,\n",
       "         -2.63631374e+00, -2.63531150e+00, -2.60445942e+00, -2.60137330e+00,\n",
       "         -2.58881704e+00, -2.56278172e+00, -2.52381043e+00, -2.50983251e+00,\n",
       "         -2.48096711e+00, -2.41992517e+00, -2.41781481e+00, -2.40586784e+00,\n",
       "         -2.40195611e+00, -2.40029165e+00, -2.39675963e+00, -2.35482589e+00,\n",
       "         -2.32233582e+00, -2.30176625e+00, -2.27337776e+00, -2.25926294e+00,\n",
       "         -2.23282143e+00, -2.22778834e+00, -2.22698920e+00, -2.22387661e+00,\n",
       "         -2.19588107e+00, -2.19199582e+00, -2.13528503e+00, -2.08483913e+00,\n",
       "         -2.07449913e+00, -2.06838438e+00, -2.04426956e+00, -2.01571769e+00,\n",
       "         -2.00927618e+00, -1.99242848e+00, -1.98734244e+00, -1.95194287e+00,\n",
       "         -1.94949251e+00, -1.94693625e+00, -1.93532474e+00, -1.92835791e+00,\n",
       "         -1.86232258e+00, -1.85943956e+00, -1.85628726e+00, -1.85088769e+00,\n",
       "         -1.84637992e+00, -1.83782805e+00, -1.79173978e+00, -1.78984575e+00,\n",
       "         -1.75879057e+00, -1.71175302e+00, -1.70888323e+00, -1.67130712e+00,\n",
       "         -1.66347042e+00, -1.65425632e+00, -1.60301129e+00, -1.55822100e+00,\n",
       "         -1.54677287e+00, -1.54444618e+00, -1.52947927e+00, -1.50950575e+00,\n",
       "         -1.47033136e+00, -1.45777510e+00, -1.45551460e+00, -1.44731597e+00,\n",
       "         -1.44336453e+00, -1.42527179e+00, -1.40533798e+00, -1.39276848e+00,\n",
       "         -1.39072431e+00, -1.38302453e+00, -1.37027841e+00, -1.35086122e+00,\n",
       "         -1.34941309e+00, -1.34321438e+00, -1.32700244e+00, -1.31981928e+00,\n",
       "         -1.31674640e+00, -1.29177949e+00, -1.28071107e+00, -1.24823424e+00,\n",
       "         -1.24719230e+00, -1.24493179e+00, -1.22924971e+00, -1.11424309e+00,\n",
       "         -1.10428280e+00, -1.09283467e+00, -1.06443294e+00, -1.04050798e+00,\n",
       "         -1.02138654e+00, -9.88207763e-01, -9.79289417e-01, -9.01293879e-01,\n",
       "         -9.00737547e-01, -8.79682367e-01, -8.73783952e-01, -8.68017907e-01,\n",
       "         -8.56786108e-01, -8.55501361e-01, -8.34675749e-01, -8.16733160e-01,\n",
       "         -8.04229850e-01, -7.97841287e-01, -7.86300498e-01, -7.83227619e-01,\n",
       "         -7.79236469e-01, -7.55527835e-01, -7.50697836e-01, -7.38004670e-01,\n",
       "         -7.27179058e-01, -7.10494742e-01, -7.08803807e-01, -6.46909779e-01,\n",
       "         -6.40265174e-01, -6.27748628e-01, -6.25730928e-01, -6.01916397e-01,\n",
       "         -5.43797189e-01, -5.35744165e-01, -5.09695605e-01, -4.98247475e-01,\n",
       "         -4.85245318e-01, -4.68031144e-01, -4.57991433e-01, -3.81726541e-01,\n",
       "         -3.72009057e-01, -3.53201145e-01, -3.45541072e-01, -3.32998051e-01,\n",
       "         -3.04296036e-01, -2.95973733e-01, -2.94419707e-01, -2.83240856e-01,\n",
       "         -2.79655893e-01, -2.78777333e-01, -2.68477043e-01, -2.43187908e-01,\n",
       "         -2.34066468e-01, -2.19938409e-01, -2.14053231e-01, -2.02172440e-01,\n",
       "         -1.89669130e-01, -1.86799345e-01, -1.85704454e-01, -1.61280642e-01,\n",
       "         -1.46923016e-01, -1.22185677e-01, -9.38898485e-02, -7.94263253e-02,\n",
       "         -7.81945263e-02, -5.30377626e-02, -4.74351002e-02, -4.06845985e-02,\n",
       "         -2.19296346e-02, -8.65366206e-03,  5.31101405e-03,  5.48763348e-03,\n",
       "          5.55935303e-02,  9.82072735e-02,  1.03725976e-01,  1.04308783e-01,\n",
       "          1.19518495e-01,  1.29478784e-01,  1.32794468e-01,  1.59249216e-01,\n",
       "          1.59655403e-01,  1.64511877e-01,  1.92021804e-01,  2.09019648e-01,\n",
       "          2.39748063e-01,  2.43862884e-01,  2.67015186e-01,  2.81359575e-01,\n",
       "          3.10940151e-01,  3.34741444e-01,  3.53443460e-01,  3.79465547e-01,\n",
       "          4.08450078e-01,  4.26366194e-01,  4.34904827e-01,  4.52238135e-01,\n",
       "          4.54525114e-01,  4.77257991e-01,  5.10600149e-01,  5.47854035e-01,\n",
       "          5.53430223e-01,  5.56745907e-01,  5.57801086e-01,  5.63293315e-01,\n",
       "          5.65297777e-01,  5.87558281e-01,  5.90291158e-01,  5.92847416e-01,\n",
       "          6.15337488e-01,  6.21372812e-01,  6.22834179e-01,  6.23606842e-01,\n",
       "          6.23849647e-01,  6.27840798e-01,  7.14242597e-01,  7.20776768e-01,\n",
       "          7.20953388e-01,  7.27244754e-01,  7.88096840e-01,  7.90357344e-01,\n",
       "          7.97152094e-01,  8.08869503e-01,  8.09544969e-01,  8.13456697e-01,\n",
       "          8.21955619e-01,  8.31103533e-01,  8.32401517e-01,  8.54891590e-01,\n",
       "          8.59761300e-01,  9.24335257e-01,  9.28856266e-01,  9.39452310e-01,\n",
       "          9.49911445e-01,  9.50966625e-01,  9.52984324e-01,  9.60926914e-01,\n",
       "          9.65796624e-01,  9.87408136e-01,  1.02238828e+00,  1.05528454e+00,\n",
       "          1.08635296e+00,  1.10241475e+00,  1.12079001e+00,  1.13828670e+00,\n",
       "          1.15383641e+00,  1.15846332e+00,  1.19226461e+00,  1.19651634e+00,\n",
       "          1.20387612e+00,  1.24778785e+00,  1.25989821e+00,  1.26069735e+00,\n",
       "          1.27592029e+00,  1.29829993e+00,  1.30842360e+00,  1.31341699e+00,\n",
       "          1.35578339e+00,  1.37888274e+00,  1.38596001e+00,  1.40683857e+00,\n",
       "          1.42464878e+00,  1.42535073e+00,  1.43843684e+00,  1.45138605e+00,\n",
       "          1.46694900e+00,  1.47988497e+00,  1.48633972e+00,  1.52204828e+00,\n",
       "          1.52704166e+00,  1.58487835e+00,  1.60346993e+00,  1.62637943e+00,\n",
       "          1.64048101e+00,  1.64884303e+00,  1.70841037e+00,  1.73819404e+00,\n",
       "          1.76183195e+00,  1.76328008e+00,  1.77597324e+00,  1.78491806e+00,\n",
       "          1.81173929e+00,  1.83992468e+00,  1.84476792e+00,  1.85133310e+00,\n",
       "          1.87203504e+00,  1.90181871e+00,  1.91097986e+00,  1.91214548e+00,\n",
       "          1.91847655e+00,  1.92742137e+00,  1.93330655e+00,  1.95453835e+00,\n",
       "          1.95739490e+00,  1.95860022e+00,  1.96923598e+00,  1.97432202e+00,\n",
       "          2.03537720e+00,  2.03702842e+00,  2.05797771e+00,  2.06932864e+00,\n",
       "          2.08444569e+00,  2.08738166e+00,  2.10080324e+00,  2.10736842e+00,\n",
       "          2.12889598e+00,  2.15242799e+00,  2.18632648e+00,  2.23639267e+00,\n",
       "          2.23934188e+00,  2.24569073e+00,  2.25139929e+00,  2.25388936e+00,\n",
       "          2.25953173e+00,  2.27547440e+00,  2.28091368e+00,  2.29682533e+00,\n",
       "          2.30286065e+00,  2.30348317e+00,  2.32237504e+00,  2.35788051e+00,\n",
       "          2.37278123e+00,  2.44882979e+00,  2.47536396e+00,  2.50318742e+00,\n",
       "          2.51493130e+00,  2.56955821e+00,  2.60455159e+00,  2.61964217e+00,\n",
       "          2.64027792e+00,  2.65434849e+00,  2.67993792e+00,  2.69743461e+00,\n",
       "          2.70987173e+00,  2.74287389e+00,  2.75673267e+00,  2.76038382e+00,\n",
       "          2.86786727e+00,  2.92382317e+00,  2.93850303e+00,  3.00244123e+00,\n",
       "          3.01641914e+00,  3.02100634e+00,  3.03590706e+00,  3.05705490e+00,\n",
       "          3.09539044e+00,  3.19184518e+00,  3.20422936e+00,  3.26194238e+00,\n",
       "          3.35068411e+00,  3.36037058e+00,  3.38099310e+00,  3.47486512e+00,\n",
       "          3.53943907e+00,  3.54598648e+00,  3.54892245e+00,  3.55390260e+00,\n",
       "          3.56890921e+00,  3.58848979e+00,  3.72746108e+00,  3.77777461e+00,\n",
       "          3.78172605e+00,  3.80818080e+00,  3.83851626e+00,  3.85288713e+00,\n",
       "          3.85996439e+00,  3.86599972e+00,  3.92340375e+00,  3.93527130e+00,\n",
       "          3.98391583e+00,  4.05131986e+00,  4.07350965e+00,  4.07494454e+00,\n",
       "          4.09640590e+00,  4.12349641e+00,  4.12443245e+00,  4.24744785e+00,\n",
       "          4.28276799e+00,  4.37090044e+00,  4.38495778e+00,  4.41995116e+00,\n",
       "          4.43693576e+00,  4.44392907e+00,  4.47142576e+00,  4.47601295e+00,\n",
       "          4.55881655e+00,  4.58922274e+00,  4.67026468e+00,  4.70141252e+00,\n",
       "          4.70246770e+00,  4.75631325e+00,  4.77643238e+00,  4.80236181e+00,\n",
       "          4.83839713e+00,  4.87985850e+00,  5.02497101e+00,  5.10747432e+00,\n",
       "          5.33245447e+00,  5.62130663e+00,  5.62380994e+00,  5.75735519e+00,\n",
       "          5.84339051e+00,  5.96589382e+00,  6.08234857e+00,  6.51485188e+00])),\n",
       " (2.6168494199536156, -5.504580646948331e-13, 0.996287428396972))"
      ]
     },
     "execution_count": 226,
     "metadata": {},
     "output_type": "execute_result"
    },
    {
     "data": {
      "image/png": "[encoded data removed]",
      "text/plain": [
       "<Figure size 432x288 with 1 Axes>"
      ]
     },
     "metadata": {
      "needs_background": "light"
     },
     "output_type": "display_data"
    }
   ],
   "source": [
    "stats.probplot(co2[\"resids\"], dist=\"norm\", plot=pylab)"
   ]
  },
  {
   "cell_type": "code",
   "execution_count": 227,
   "metadata": {},
   "outputs": [
    {
     "data": {
      "image/png": "[encoded data removed]",
      "text/plain": [
       "<Figure size 432x288 with 1 Axes>"
      ]
     },
     "metadata": {
      "needs_background": "light"
     },
     "output_type": "display_data"
    }
   ],
   "source": [
    "import statsmodels.api as sm\n",
    "\n",
    "\n",
    "# https://www.statsmodels.org/stable/generated/statsmodels.graphics.gofplots.qqplot.html\n",
    "\n",
    "# line (str {'45', 's', 'r', q'} or None) –\n",
    "# Options for the reference line to which the data is compared:\n",
    "\n",
    "# ‘45’ - 45-degree line\n",
    "# ’s‘ - standardized line, the expected order statistics are scaled by the standard deviation of the given sample and have the mean added to them\n",
    "# ’r’ - A regression line is fit\n",
    "# ’q’ - A line is fit through the quartiles.\n",
    "# None - by default no reference line is added to the plot.\n",
    "\n",
    "sm.qqplot(co2[\"resids\"], line='r')\n",
    "plt.show()"
   ]
  },
  {
   "cell_type": "markdown",
   "metadata": {},
   "source": [
    "### scatter plot for co2 residuals vs time\n",
    "\n",
    "```\n",
    "plot( co2.residuals ~ time(co2) )\n",
    "```"
   ]
  },
  {
   "cell_type": "code",
   "execution_count": 228,
   "metadata": {},
   "outputs": [
    {
     "data": {
      "image/png": "[encoded data removed]",
      "text/plain": [
       "<Figure size 432x288 with 1 Axes>"
      ]
     },
     "metadata": {
      "needs_background": "light"
     },
     "output_type": "display_data"
    }
   ],
   "source": [
    "plt.scatter(x=co2['time'], y=co2['resids'])\n",
    "plt.show()"
   ]
  },
  {
   "cell_type": "markdown",
   "metadata": {},
   "source": [
    "### Zoom in on the analysis of the co2 data\n",
    "\n",
    "```\n",
    "plot(co2.residuals ~ time(co2),\n",
    "  xlim=c(1960, 1963)\n",
    "  main=\"Zoomed Residuals\")\n",
    "```\n",
    "\n",
    "Using the pydataset, we can use pandas dataframe.plot\n",
    "```\n",
    "https://pandas.pydata.org/pandas-docs/stable/reference/api/pandas.DataFrame.plot.html\n",
    "```\n",
    "\n",
    "xlim : 2-tuple/list\n"
   ]
  },
  {
   "cell_type": "code",
   "execution_count": 229,
   "metadata": {},
   "outputs": [
    {
     "data": {
      "text/plain": [
       "<matplotlib.axes._subplots.AxesSubplot at 0x1258e6ba8>"
      ]
     },
     "execution_count": 229,
     "metadata": {},
     "output_type": "execute_result"
    },
    {
     "data": {
      "image/png": "[encoded data removed]",
      "text/plain": [
       "<Figure size 432x288 with 1 Axes>"
      ]
     },
     "metadata": {
      "needs_background": "light"
     },
     "output_type": "display_data"
    }
   ],
   "source": [
    "co2.plot(kind=\"scatter\", x='time', y='resids', xlim=(1960,1963), title=\"Zoomed Residuals\")"
   ]
  },
  {
   "cell_type": "code",
   "execution_count": 230,
   "metadata": {},
   "outputs": [
    {
     "data": {
      "text/plain": [
       "<matplotlib.axes._subplots.AxesSubplot at 0x1259494e0>"
      ]
     },
     "execution_count": 230,
     "metadata": {},
     "output_type": "execute_result"
    },
    {
     "data": {
      "image/png": "[encoded data removed]",
      "text/plain": [
       "<Figure size 432x288 with 1 Axes>"
      ]
     },
     "metadata": {
      "needs_background": "light"
     },
     "output_type": "display_data"
    }
   ],
   "source": [
    "co2.plot.scatter(x='time', y='resids', xlim=(1960,1963))"
   ]
  },
  {
   "cell_type": "markdown",
   "metadata": {},
   "source": [
    "## Reviewing Basic Statistics III\n",
    "\n",
    "help(sleep)"
   ]
  },
  {
   "cell_type": "code",
   "execution_count": 231,
   "metadata": {},
   "outputs": [
    {
     "name": "stdout",
     "output_type": "stream",
     "text": [
      "sleep\n",
      "\n",
      "PyDataset Documentation (adopted from R Documentation. The displayed examples are in R)\n",
      "\n",
      "## Student's Sleep Data\n",
      "\n",
      "### Description\n",
      "\n",
      "Data which show the effect of two soporific drugs (increase in hours of sleep\n",
      "compared to control) on 10 patients.\n",
      "\n",
      "### Usage\n",
      "\n",
      "    sleep\n",
      "\n",
      "### Format\n",
      "\n",
      "A data frame with 20 observations on 3 variables.\n",
      "\n",
      "[, 1]\n",
      "\n",
      "extra\n",
      "\n",
      "numeric\n",
      "\n",
      "increase in hours of sleep\n",
      "\n",
      "[, 2]\n",
      "\n",
      "group\n",
      "\n",
      "factor\n",
      "\n",
      "drug given\n",
      "\n",
      "[, 3]\n",
      "\n",
      "ID\n",
      "\n",
      "factor\n",
      "\n",
      "patient ID\n",
      "\n",
      "### Details\n",
      "\n",
      "The `group` variable name may be misleading about the data: They represent\n",
      "measurements on 10 persons, not in groups.\n",
      "\n",
      "### Source\n",
      "\n",
      "Cushny, A. R. and Peebles, A. R. (1905) The action of optical isomers: II\n",
      "hyoscines. _The Journal of Physiology_ **32**, 501–510.\n",
      "\n",
      "Student (1908) The probable error of the mean. _Biometrika_, **6**, 20.\n",
      "\n",
      "### References\n",
      "\n",
      "Scheffé, Henry (1959) _The Analysis of Variance_. New York, NY: Wiley.\n",
      "\n",
      "### Examples\n",
      "\n",
      "    require(stats)\n",
      "    ## Student's paired t-test\n",
      "    with(sleep,\n",
      "         t.test(extra[group == 1],\n",
      "                extra[group == 2], paired = TRUE))\n",
      "    ## The sleep *prolongations*\n",
      "    sleep1 <- with(sleep, extra[group == 2] - extra[group == 1])\n",
      "    summary(sleep1)\n",
      "    stripchart(sleep1, method = \"stack\", xlab = \"hours\",\n",
      "               main = \"Sleep prolongation (n = 10)\")\n",
      "    boxplot(sleep1, horizontal = TRUE, add = TRUE,\n",
      "            at = .6, pars = list(boxwex = 0.5, staplewex = 0.25))\n",
      "\n",
      "\n"
     ]
    }
   ],
   "source": [
    "data('sleep', show_doc=True)\n",
    "sleep = data('sleep')"
   ]
  },
  {
   "cell_type": "markdown",
   "metadata": {},
   "source": [
    "### Gossett Data\n",
    "\n",
    "```\n",
    "plot(extra ~ group,\n",
    "   data=sleep,\n",
    "   main=\"Extra Sleep in Gossett Data by Group\")\n",
    "attach(sleep)\n",
    "extra.1 = extra[group == 1]\n",
    "extra.2 = extra[group == 2]\n",
    "```"
   ]
  },
  {
   "cell_type": "code",
   "execution_count": 232,
   "metadata": {},
   "outputs": [
    {
     "data": {
      "text/plain": [
       "<matplotlib.axes._subplots.AxesSubplot at 0x1259e74e0>"
      ]
     },
     "execution_count": 232,
     "metadata": {},
     "output_type": "execute_result"
    },
    {
     "data": {
      "image/png": "[encoded data removed]",
      "text/plain": [
       "<Figure size 432x288 with 1 Axes>"
      ]
     },
     "metadata": {
      "needs_background": "light"
     },
     "output_type": "display_data"
    }
   ],
   "source": [
    "sleep.boxplot(by='group', column='extra')"
   ]
  },
  {
   "cell_type": "code",
   "execution_count": 233,
   "metadata": {},
   "outputs": [
    {
     "data": {
      "text/plain": [
       "11    1.9\n",
       "12    0.8\n",
       "13    1.1\n",
       "14    0.1\n",
       "15   -0.1\n",
       "16    4.4\n",
       "17    5.5\n",
       "18    1.6\n",
       "19    4.6\n",
       "20    3.4\n",
       "Name: extra, dtype: float64"
      ]
     },
     "execution_count": 233,
     "metadata": {},
     "output_type": "execute_result"
    }
   ],
   "source": [
    "import pandas as pd\n",
    "\n",
    "# calculation of t-statistic and p-value\n",
    "extra1 = sleep[sleep.group==1]['extra']\n",
    "my_extra1 = extra1.dropna().reset_index(drop=True).reindex([0, 1, 2, 3, 4, 5, 6, 7, 8, 9, 10])\n",
    "extra2 = sleep[sleep.group==2]['extra']\n",
    "my_extra2 = extra2.dropna().reset_index(drop=True).reindex([0, 1, 2, 3, 4, 5, 6, 7, 8, 9, 10])\n",
    "\n",
    "extra2"
   ]
  },
  {
   "cell_type": "code",
   "execution_count": 234,
   "metadata": {},
   "outputs": [
    {
     "data": {
      "text/plain": [
       "{'extra1': 1     0.7\n",
       " 2    -1.6\n",
       " 3    -0.2\n",
       " 4    -1.2\n",
       " 5    -0.1\n",
       " 6     3.4\n",
       " 7     3.7\n",
       " 8     0.8\n",
       " 9     0.0\n",
       " 10    2.0\n",
       " Name: extra, dtype: float64, 'extra2': 11    1.9\n",
       " 12    0.8\n",
       " 13    1.1\n",
       " 14    0.1\n",
       " 15   -0.1\n",
       " 16    4.4\n",
       " 17    5.5\n",
       " 18    1.6\n",
       " 19    4.6\n",
       " 20    3.4\n",
       " Name: extra, dtype: float64}"
      ]
     },
     "execution_count": 234,
     "metadata": {},
     "output_type": "execute_result"
    }
   ],
   "source": [
    "extra_dict = {'extra1':extra1, 'extra2': extra2 }\n",
    "extra_dict"
   ]
  },
  {
   "cell_type": "code",
   "execution_count": 235,
   "metadata": {},
   "outputs": [
    {
     "data": {
      "text/html": [
       "<div>\n",
       "<style scoped>\n",
       "    .dataframe tbody tr th:only-of-type {\n",
       "        vertical-align: middle;\n",
       "    }\n",
       "\n",
       "    .dataframe tbody tr th {\n",
       "        vertical-align: top;\n",
       "    }\n",
       "\n",
       "    .dataframe thead th {\n",
       "        text-align: right;\n",
       "    }\n",
       "</style>\n",
       "<table border=\"1\" class=\"dataframe\">\n",
       "  <thead>\n",
       "    <tr style=\"text-align: right;\">\n",
       "      <th></th>\n",
       "      <th>extra1</th>\n",
       "      <th>extra2</th>\n",
       "    </tr>\n",
       "  </thead>\n",
       "  <tbody>\n",
       "    <tr>\n",
       "      <th>1</th>\n",
       "      <td>0.7</td>\n",
       "      <td>NaN</td>\n",
       "    </tr>\n",
       "    <tr>\n",
       "      <th>2</th>\n",
       "      <td>-1.6</td>\n",
       "      <td>NaN</td>\n",
       "    </tr>\n",
       "    <tr>\n",
       "      <th>3</th>\n",
       "      <td>-0.2</td>\n",
       "      <td>NaN</td>\n",
       "    </tr>\n",
       "    <tr>\n",
       "      <th>4</th>\n",
       "      <td>-1.2</td>\n",
       "      <td>NaN</td>\n",
       "    </tr>\n",
       "    <tr>\n",
       "      <th>5</th>\n",
       "      <td>-0.1</td>\n",
       "      <td>NaN</td>\n",
       "    </tr>\n",
       "    <tr>\n",
       "      <th>6</th>\n",
       "      <td>3.4</td>\n",
       "      <td>NaN</td>\n",
       "    </tr>\n",
       "    <tr>\n",
       "      <th>7</th>\n",
       "      <td>3.7</td>\n",
       "      <td>NaN</td>\n",
       "    </tr>\n",
       "    <tr>\n",
       "      <th>8</th>\n",
       "      <td>0.8</td>\n",
       "      <td>NaN</td>\n",
       "    </tr>\n",
       "    <tr>\n",
       "      <th>9</th>\n",
       "      <td>0.0</td>\n",
       "      <td>NaN</td>\n",
       "    </tr>\n",
       "    <tr>\n",
       "      <th>10</th>\n",
       "      <td>2.0</td>\n",
       "      <td>NaN</td>\n",
       "    </tr>\n",
       "    <tr>\n",
       "      <th>11</th>\n",
       "      <td>NaN</td>\n",
       "      <td>1.9</td>\n",
       "    </tr>\n",
       "    <tr>\n",
       "      <th>12</th>\n",
       "      <td>NaN</td>\n",
       "      <td>0.8</td>\n",
       "    </tr>\n",
       "    <tr>\n",
       "      <th>13</th>\n",
       "      <td>NaN</td>\n",
       "      <td>1.1</td>\n",
       "    </tr>\n",
       "    <tr>\n",
       "      <th>14</th>\n",
       "      <td>NaN</td>\n",
       "      <td>0.1</td>\n",
       "    </tr>\n",
       "    <tr>\n",
       "      <th>15</th>\n",
       "      <td>NaN</td>\n",
       "      <td>-0.1</td>\n",
       "    </tr>\n",
       "    <tr>\n",
       "      <th>16</th>\n",
       "      <td>NaN</td>\n",
       "      <td>4.4</td>\n",
       "    </tr>\n",
       "    <tr>\n",
       "      <th>17</th>\n",
       "      <td>NaN</td>\n",
       "      <td>5.5</td>\n",
       "    </tr>\n",
       "    <tr>\n",
       "      <th>18</th>\n",
       "      <td>NaN</td>\n",
       "      <td>1.6</td>\n",
       "    </tr>\n",
       "    <tr>\n",
       "      <th>19</th>\n",
       "      <td>NaN</td>\n",
       "      <td>4.6</td>\n",
       "    </tr>\n",
       "    <tr>\n",
       "      <th>20</th>\n",
       "      <td>NaN</td>\n",
       "      <td>3.4</td>\n",
       "    </tr>\n",
       "  </tbody>\n",
       "</table>\n",
       "</div>"
      ],
      "text/plain": [
       "    extra1  extra2\n",
       "1      0.7     NaN\n",
       "2     -1.6     NaN\n",
       "3     -0.2     NaN\n",
       "4     -1.2     NaN\n",
       "5     -0.1     NaN\n",
       "6      3.4     NaN\n",
       "7      3.7     NaN\n",
       "8      0.8     NaN\n",
       "9      0.0     NaN\n",
       "10     2.0     NaN\n",
       "11     NaN     1.9\n",
       "12     NaN     0.8\n",
       "13     NaN     1.1\n",
       "14     NaN     0.1\n",
       "15     NaN    -0.1\n",
       "16     NaN     4.4\n",
       "17     NaN     5.5\n",
       "18     NaN     1.6\n",
       "19     NaN     4.6\n",
       "20     NaN     3.4"
      ]
     },
     "execution_count": 235,
     "metadata": {},
     "output_type": "execute_result"
    }
   ],
   "source": [
    "# drop this method lah.  The better method is to just create it as a numpy array which detects for NaN too.\n",
    "extras_from_dict = pd.DataFrame(extra_dict)\n",
    "extras_from_dict"
   ]
  },
  {
   "cell_type": "code",
   "execution_count": 236,
   "metadata": {},
   "outputs": [
    {
     "data": {
      "text/plain": [
       "array([[ 0.7, -1.6, -0.2, -1.2, -0.1,  3.4,  3.7,  0.8,  0. ,  2. ],\n",
       "       [ 1.9,  0.8,  1.1,  0.1, -0.1,  4.4,  5.5,  1.6,  4.6,  3.4]])"
      ]
     },
     "execution_count": 236,
     "metadata": {},
     "output_type": "execute_result"
    }
   ],
   "source": [
    "# How donaq did it, by using numpy to setup the array\n",
    "extra_np = np.array([extra1,extra2])\n",
    "extra_np"
   ]
  },
  {
   "cell_type": "code",
   "execution_count": 237,
   "metadata": {},
   "outputs": [
    {
     "data": {
      "text/plain": [
       "array([[ 0.7,  1.9],\n",
       "       [-1.6,  0.8],\n",
       "       [-0.2,  1.1],\n",
       "       [-1.2,  0.1],\n",
       "       [-0.1, -0.1],\n",
       "       [ 3.4,  4.4],\n",
       "       [ 3.7,  5.5],\n",
       "       [ 0.8,  1.6],\n",
       "       [ 0. ,  4.6],\n",
       "       [ 2. ,  3.4]])"
      ]
     },
     "execution_count": 237,
     "metadata": {},
     "output_type": "execute_result"
    }
   ],
   "source": [
    "# np.ndarray.T - Same as self.transpose(), except that self is returned if self.ndim < 2.\n",
    "# This is a matrix transform from horizontal to vertical - pandas prefers to analyze by vertical?\n",
    "extra_np.T"
   ]
  },
  {
   "cell_type": "code",
   "execution_count": 238,
   "metadata": {},
   "outputs": [
    {
     "data": {
      "text/html": [
       "<div>\n",
       "<style scoped>\n",
       "    .dataframe tbody tr th:only-of-type {\n",
       "        vertical-align: middle;\n",
       "    }\n",
       "\n",
       "    .dataframe tbody tr th {\n",
       "        vertical-align: top;\n",
       "    }\n",
       "\n",
       "    .dataframe thead th {\n",
       "        text-align: right;\n",
       "    }\n",
       "</style>\n",
       "<table border=\"1\" class=\"dataframe\">\n",
       "  <thead>\n",
       "    <tr style=\"text-align: right;\">\n",
       "      <th></th>\n",
       "      <th>extra1</th>\n",
       "      <th>extra2</th>\n",
       "    </tr>\n",
       "  </thead>\n",
       "  <tbody>\n",
       "    <tr>\n",
       "      <th>0</th>\n",
       "      <td>0.7</td>\n",
       "      <td>1.9</td>\n",
       "    </tr>\n",
       "    <tr>\n",
       "      <th>1</th>\n",
       "      <td>-1.6</td>\n",
       "      <td>0.8</td>\n",
       "    </tr>\n",
       "    <tr>\n",
       "      <th>2</th>\n",
       "      <td>-0.2</td>\n",
       "      <td>1.1</td>\n",
       "    </tr>\n",
       "    <tr>\n",
       "      <th>3</th>\n",
       "      <td>-1.2</td>\n",
       "      <td>0.1</td>\n",
       "    </tr>\n",
       "    <tr>\n",
       "      <th>4</th>\n",
       "      <td>-0.1</td>\n",
       "      <td>-0.1</td>\n",
       "    </tr>\n",
       "    <tr>\n",
       "      <th>5</th>\n",
       "      <td>3.4</td>\n",
       "      <td>4.4</td>\n",
       "    </tr>\n",
       "    <tr>\n",
       "      <th>6</th>\n",
       "      <td>3.7</td>\n",
       "      <td>5.5</td>\n",
       "    </tr>\n",
       "    <tr>\n",
       "      <th>7</th>\n",
       "      <td>0.8</td>\n",
       "      <td>1.6</td>\n",
       "    </tr>\n",
       "    <tr>\n",
       "      <th>8</th>\n",
       "      <td>0.0</td>\n",
       "      <td>4.6</td>\n",
       "    </tr>\n",
       "    <tr>\n",
       "      <th>9</th>\n",
       "      <td>2.0</td>\n",
       "      <td>3.4</td>\n",
       "    </tr>\n",
       "  </tbody>\n",
       "</table>\n",
       "</div>"
      ],
      "text/plain": [
       "   extra1  extra2\n",
       "0     0.7     1.9\n",
       "1    -1.6     0.8\n",
       "2    -0.2     1.1\n",
       "3    -1.2     0.1\n",
       "4    -0.1    -0.1\n",
       "5     3.4     4.4\n",
       "6     3.7     5.5\n",
       "7     0.8     1.6\n",
       "8     0.0     4.6\n",
       "9     2.0     3.4"
      ]
     },
     "execution_count": 238,
     "metadata": {},
     "output_type": "execute_result"
    }
   ],
   "source": [
    "# https://pandas.pydata.org/pandas-docs/stable/reference/api/pandas.DataFrame.html#pandas.DataFrame\n",
    "extras = pd.DataFrame(extra_np.T, columns=['extra1','extra2'])\n",
    "extras"
   ]
  },
  {
   "cell_type": "markdown",
   "metadata": {},
   "source": [
    "### Test your Hypothesis\n",
    "\n",
    "```\n",
    "t.test(extra.1, extra.2, paired = TRUE, alternative=\"two.sided\")\n",
    "```\n",
    "\n",
    "This means: run a paired t-test, with data = extra by group.  The alternative hypothesis is true difference in means is not equal to 0.\n",
    "\n",
    "Also read:\n",
    "https://www.rdocumentation.org/packages/stats/versions/3.6.0/topics/t.test\n",
    "https://docs.scipy.org/doc/scipy/reference/generated/scipy.stats.ttest_rel.html?highlight=ttest#scipy.stats.ttest_rel\n",
    "https://towardsdatascience.com/hypothesis-testing-in-machine-learning-using-python-a0dc89e169ce"
   ]
  },
  {
   "cell_type": "code",
   "execution_count": 239,
   "metadata": {},
   "outputs": [
    {
     "data": {
      "text/plain": [
       "(-4.062127683382037, 0.00283289019738427)"
      ]
     },
     "execution_count": 239,
     "metadata": {},
     "output_type": "execute_result"
    }
   ],
   "source": [
    "# Not to be confused with ttest_ind which performs paired=FALSE\n",
    "# ttest_rel\n",
    "# Calculate the T-test on TWO RELATED samples of scores, a and b.\n",
    "\n",
    "tresult, pval = stats.ttest_rel(extras['extra1'], extras['extra2'])\n",
    "tresult, pval"
   ]
  },
  {
   "cell_type": "code",
   "execution_count": 240,
   "metadata": {},
   "outputs": [
    {
     "data": {
      "text/plain": [
       "(0   -1.2\n",
       " 1   -2.4\n",
       " 2   -1.3\n",
       " 3   -1.3\n",
       " 4    0.0\n",
       " 5   -1.0\n",
       " 6   -1.8\n",
       " 7   -0.8\n",
       " 8   -4.6\n",
       " 9   -1.4\n",
       " Name: diff, dtype: float64, -1.58)"
      ]
     },
     "execution_count": 240,
     "metadata": {},
     "output_type": "execute_result"
    }
   ],
   "source": [
    "### Alternative approach by calculating confidence interval\n",
    "extras['diff'] = extras['extra1'] - extras['extra2']\n",
    "diff_mean = extras['diff'].mean()\n",
    "\n",
    "extras['diff'], diff_mean"
   ]
  },
  {
   "cell_type": "code",
   "execution_count": 241,
   "metadata": {},
   "outputs": [
    {
     "data": {
      "text/plain": [
       "(-2.4598857632547286, -0.7001142367452713)"
      ]
     },
     "execution_count": 241,
     "metadata": {},
     "output_type": "execute_result"
    }
   ],
   "source": [
    "# https://stackoverflow.com/questions/15033511/compute-a-confidence-interval-from-sample-data\n",
    "\n",
    "# Using scipy.stats.sem to calculate mean of difference\n",
    "# https://docs.scipy.org/doc/scipy/reference/generated/scipy.stats.sem.html#scipy.stats.sem\n",
    "\n",
    "stats.t.interval(0.95, len(extras['diff'])-1, loc=diff_mean, scale=stats.sem(extras['diff']))\n"
   ]
  },
  {
   "cell_type": "markdown",
   "metadata": {},
   "source": [
    " ### Unpacking this output\n",
    " \n",
    " H0: Mean response is the same for both drugs, or\n",
    "   H0: extras.drug1 - extras.drug2 == extras.diff = 0\n",
    "   \n",
    " H1: Mean response is not the same for both drugs, or\n",
    "   H1: extras.drug1 - extras.drug2 == extras.diff <> 0\n",
    " \n",
    " ```\n",
    " H0 is the null hypothesis\n",
    " H1 is the alternative hypothesis, and in this case, because it is not-equal, a two-sided hypothesis\n",
    " ```\n",
    " \n",
    " t = (diff.mean - 0) / ( std deviation - sqrt( number of samples ) )\n",
    " \n",
    "We're going to take s sub d. So, this is the sample standard deviation of the differences.\n",
    "\n",
    "That's not going to be the same number generally speaking, as if you take the standard deviation of the first data set, and subtract off the standard deviation of the second."
   ]
  },
  {
   "cell_type": "code",
   "execution_count": 242,
   "metadata": {},
   "outputs": [
    {
     "data": {
      "text/plain": [
       "(1.7890096577591623, 2.002248735796829, 0.21323907803766673)"
      ]
     },
     "execution_count": 242,
     "metadata": {},
     "output_type": "execute_result"
    }
   ],
   "source": [
    "# What the guy said exactly not to do.\n",
    "not_sd = stats.tstd(extras['extra2']) - stats.tstd(extras['extra1'])\n",
    "\n",
    "stats.tstd(extras['extra1']),stats.tstd(extras['extra2']), not_sd"
   ]
  },
  {
   "cell_type": "code",
   "execution_count": 243,
   "metadata": {},
   "outputs": [
    {
     "data": {
      "text/plain": [
       "(1.2299954832798732, 1.1668761716651856, 1.2299954832798732)"
      ]
     },
     "execution_count": 243,
     "metadata": {},
     "output_type": "execute_result"
    }
   ],
   "source": [
    "sd = stats.tstd(extras['diff'])\n",
    "\n",
    "# ddof : int, optional\n",
    "# Means Delta Degrees of Freedom. \n",
    "# The divisor used in calculations is N - ddof, \n",
    "# where N represents the number of elements. \n",
    "# By default ddof is zero.\n",
    "\n",
    "sd, np.std(extras['diff']), np.std(extras['diff'], ddof=1)"
   ]
  },
  {
   "cell_type": "markdown",
   "metadata": {},
   "source": [
    "### Inference probability plots\n",
    "\n",
    "```\n",
    "qqnorm(diffs, main= \"Normal Probability Plot\")\n",
    "qqline(diffs)\n",
    "```"
   ]
  },
  {
   "cell_type": "code",
   "execution_count": 255,
   "metadata": {},
   "outputs": [
    {
     "data": {
      "image/png": "[encoded data removed]",
      "text/plain": [
       "<Figure size 432x288 with 1 Axes>"
      ]
     },
     "metadata": {
      "needs_background": "light"
     },
     "output_type": "display_data"
    }
   ],
   "source": [
    "stats.probplot(extras['diff'],plot=plt)\n",
    "plt.show()"
   ]
  },
  {
   "cell_type": "markdown",
   "metadata": {},
   "source": [
    "### Confidence Interval\n",
    "\n",
    "```\n",
    "Estimate +/- Table Value * (Estimated) Standard Error\n",
    "\n",
    "diff.mean +/- t.alpha_div_2 * Stderr / sqrt(n)\n",
    "```"
   ]
  },
  {
   "cell_type": "code",
   "execution_count": 251,
   "metadata": {},
   "outputs": [
    {
     "data": {
      "text/plain": [
       "-0.3600000000000009"
      ]
     },
     "execution_count": 251,
     "metadata": {},
     "output_type": "execute_result"
    }
   ],
   "source": [
    "extras['diff'].quantile(0.95)"
   ]
  },
  {
   "cell_type": "markdown",
   "metadata": {},
   "source": [
    "## Measuring Linear Association with the Correlation Function\n",
    "\n"
   ]
  },
  {
   "cell_type": "code",
   "execution_count": 253,
   "metadata": {},
   "outputs": [
    {
     "name": "stdout",
     "output_type": "stream",
     "text": [
      "trees\n",
      "\n",
      "PyDataset Documentation (adopted from R Documentation. The displayed examples are in R)\n",
      "\n",
      "## Girth, Height and Volume for Black Cherry Trees\n",
      "\n",
      "### Description\n",
      "\n",
      "This data set provides measurements of the girth, height and volume of timber\n",
      "in 31 felled black cherry trees. Note that girth is the diameter of the tree\n",
      "(in inches) measured at 4 ft 6 in above the ground.\n",
      "\n",
      "### Usage\n",
      "\n",
      "    trees\n",
      "\n",
      "### Format\n",
      "\n",
      "A data frame with 31 observations on 3 variables.\n",
      "\n",
      "`[,1]`\n",
      "\n",
      "`Girth`\n",
      "\n",
      "numeric\n",
      "\n",
      "Tree diameter in inches\n",
      "\n",
      "`[,2]`\n",
      "\n",
      "`Height`\n",
      "\n",
      "numeric\n",
      "\n",
      "Height in ft\n",
      "\n",
      "`[,3]`\n",
      "\n",
      "`Volume`\n",
      "\n",
      "numeric\n",
      "\n",
      "Volume of timber in cubic ft\n",
      "\n",
      "### Source\n",
      "\n",
      "Ryan, T. A., Joiner, B. L. and Ryan, B. F. (1976) _The Minitab Student\n",
      "Handbook_. Duxbury Press.\n",
      "\n",
      "### References\n",
      "\n",
      "Atkinson, A. C. (1985) _Plots, Transformations and Regression_. Oxford\n",
      "University Press.\n",
      "\n",
      "### Examples\n",
      "\n",
      "    require(stats); require(graphics)\n",
      "    pairs(trees, panel = panel.smooth, main = \"trees data\")\n",
      "    plot(Volume ~ Girth, data = trees, log = \"xy\")\n",
      "    coplot(log(Volume) ~ log(Girth) | Height, data = trees,\n",
      "           panel = panel.smooth)\n",
      "    summary(fm1 <- lm(log(Volume) ~ log(Girth), data = trees))\n",
      "    summary(fm2 <- update(fm1, ~ . + log(Height), data = trees))\n",
      "    step(fm2)\n",
      "    ## i.e., Volume ~= c * Height * Girth^2  seems reasonable\n",
      "\n",
      "\n"
     ]
    }
   ],
   "source": [
    "trees = data('trees')\n",
    "data('trees', show_doc=True)"
   ]
  },
  {
   "cell_type": "code",
   "execution_count": 258,
   "metadata": {},
   "outputs": [
    {
     "data": {
      "image/png": "[encoded data removed]",
      "text/plain": [
       "<Figure size 432x288 with 9 Axes>"
      ]
     },
     "metadata": {
      "needs_background": "light"
     },
     "output_type": "display_data"
    }
   ],
   "source": [
    "pd.plotting.scatter_matrix(trees)\n",
    "plt.show()"
   ]
  },
  {
   "cell_type": "code",
   "execution_count": 259,
   "metadata": {},
   "outputs": [
    {
     "data": {
      "text/html": [
       "<div>\n",
       "<style scoped>\n",
       "    .dataframe tbody tr th:only-of-type {\n",
       "        vertical-align: middle;\n",
       "    }\n",
       "\n",
       "    .dataframe tbody tr th {\n",
       "        vertical-align: top;\n",
       "    }\n",
       "\n",
       "    .dataframe thead th {\n",
       "        text-align: right;\n",
       "    }\n",
       "</style>\n",
       "<table border=\"1\" class=\"dataframe\">\n",
       "  <thead>\n",
       "    <tr style=\"text-align: right;\">\n",
       "      <th></th>\n",
       "      <th>Girth</th>\n",
       "      <th>Height</th>\n",
       "      <th>Volume</th>\n",
       "    </tr>\n",
       "  </thead>\n",
       "  <tbody>\n",
       "    <tr>\n",
       "      <th>Girth</th>\n",
       "      <td>9.847914</td>\n",
       "      <td>10.383333</td>\n",
       "      <td>49.888118</td>\n",
       "    </tr>\n",
       "    <tr>\n",
       "      <th>Height</th>\n",
       "      <td>10.383333</td>\n",
       "      <td>40.600000</td>\n",
       "      <td>62.660000</td>\n",
       "    </tr>\n",
       "    <tr>\n",
       "      <th>Volume</th>\n",
       "      <td>49.888118</td>\n",
       "      <td>62.660000</td>\n",
       "      <td>270.202796</td>\n",
       "    </tr>\n",
       "  </tbody>\n",
       "</table>\n",
       "</div>"
      ],
      "text/plain": [
       "            Girth     Height      Volume\n",
       "Girth    9.847914  10.383333   49.888118\n",
       "Height  10.383333  40.600000   62.660000\n",
       "Volume  49.888118  62.660000  270.202796"
      ]
     },
     "execution_count": 259,
     "metadata": {},
     "output_type": "execute_result"
    }
   ],
   "source": [
    "# Calculate the covariance\n",
    "\n",
    "trees.cov()"
   ]
  },
  {
   "cell_type": "code",
   "execution_count": 261,
   "metadata": {},
   "outputs": [
    {
     "data": {
      "text/html": [
       "<div>\n",
       "<style scoped>\n",
       "    .dataframe tbody tr th:only-of-type {\n",
       "        vertical-align: middle;\n",
       "    }\n",
       "\n",
       "    .dataframe tbody tr th {\n",
       "        vertical-align: top;\n",
       "    }\n",
       "\n",
       "    .dataframe thead th {\n",
       "        text-align: right;\n",
       "    }\n",
       "</style>\n",
       "<table border=\"1\" class=\"dataframe\">\n",
       "  <thead>\n",
       "    <tr style=\"text-align: right;\">\n",
       "      <th></th>\n",
       "      <th>Girth</th>\n",
       "      <th>Height</th>\n",
       "      <th>Volume</th>\n",
       "    </tr>\n",
       "  </thead>\n",
       "  <tbody>\n",
       "    <tr>\n",
       "      <th>Girth</th>\n",
       "      <td>1.000000</td>\n",
       "      <td>0.51928</td>\n",
       "      <td>0.967119</td>\n",
       "    </tr>\n",
       "    <tr>\n",
       "      <th>Height</th>\n",
       "      <td>0.519280</td>\n",
       "      <td>1.00000</td>\n",
       "      <td>0.598250</td>\n",
       "    </tr>\n",
       "    <tr>\n",
       "      <th>Volume</th>\n",
       "      <td>0.967119</td>\n",
       "      <td>0.59825</td>\n",
       "      <td>1.000000</td>\n",
       "    </tr>\n",
       "  </tbody>\n",
       "</table>\n",
       "</div>"
      ],
      "text/plain": [
       "           Girth   Height    Volume\n",
       "Girth   1.000000  0.51928  0.967119\n",
       "Height  0.519280  1.00000  0.598250\n",
       "Volume  0.967119  0.59825  1.000000"
      ]
     },
     "execution_count": 261,
     "metadata": {},
     "output_type": "execute_result"
    }
   ],
   "source": [
    "# Calculate the correlation\n",
    "\n",
    "trees.corr()"
   ]
  }
 ],
 "metadata": {
  "kernelspec": {
   "display_name": "Python 3",
   "language": "python",
   "name": "python3"
  },
  "language_info": {
   "codemirror_mode": {
    "name": "ipython",
    "version": 3
   },
   "file_extension": ".py",
   "mimetype": "text/x-python",
   "name": "python",
   "nbconvert_exporter": "python",
   "pygments_lexer": "ipython3",
   "version": "3.7.3"
  }
 },
 "nbformat": 4,
 "nbformat_minor": 2
}
